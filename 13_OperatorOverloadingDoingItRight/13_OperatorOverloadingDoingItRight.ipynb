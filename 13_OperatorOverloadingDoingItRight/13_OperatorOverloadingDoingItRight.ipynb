{
 "cells": [
  {
   "cell_type": "markdown",
   "metadata": {},
   "source": [
    "# 运算符重载\n",
    "\n",
    "Python支持运算符重载。并且通过对运算符重载施加一些限制，Python的运算符重载特性在灵活性、可用性以及安全性之间取得了一定的平衡。\n",
    "\n",
    "具体来说，Python对运算符重载有如下限制：\n",
    "1. 不能重载内置类型的运算符\n",
    "2. 不能新建运算符\n",
    "3. 某些运算符不能重载 —— is、and、or以及not（位运算符&、|以及~可以重载）\n",
    "\n",
    "从实际使用中来看，上述规则实际上和Python特别强调duck type是相互协调的 —— Python中运算符重载功能的实现基于自定义类中对应方法的实现，即若想重载某一个运算符，则需要实现对应的方法。\n",
    "\n",
    "由于没有办法覆写内置类型某些方法的实现，因此无法重载内置类型的运算符。\n",
    "\n",
    "不能重载的运算符则不是通过上述机制运作的，因此也没有办法重载。下述例子查看了进行and、or以及not运算的字节码。显然，这些运算符并没有调用任何方法。and被翻译为字节码JUMP_IF_FALSE_OR_POP，or被翻译为JUMP_IF_TRUE_OR_POP，not则被翻译为UNARY_NOT。"
   ]
  },
  {
   "cell_type": "code",
   "execution_count": 29,
   "metadata": {},
   "outputs": [
    {
     "name": "stdout",
     "output_type": "stream",
     "text": [
      "TypeError\n",
      " 11           0 LOAD_FAST                0 (value_1)\n",
      "              2 LOAD_CONST               1 (0)\n",
      "              4 COMPARE_OP               0 (<)\n",
      "              6 POP_JUMP_IF_FALSE       16\n",
      "              8 LOAD_FAST                1 (value_2)\n",
      "             10 LOAD_CONST               1 (0)\n",
      "             12 COMPARE_OP               0 (<)\n",
      "             14 JUMP_IF_TRUE_OR_POP     22\n",
      "        >>   16 LOAD_FAST                0 (value_1)\n",
      "             18 LOAD_FAST                1 (value_2)\n",
      "             20 COMPARE_OP               3 (!=)\n",
      "        >>   22 UNARY_NOT\n",
      "             24 RETURN_VALUE\n"
     ]
    }
   ],
   "source": [
    "# 尝试覆盖list类型的__len__方法\n",
    "try:\n",
    "    list.__len__ = 42\n",
    "except TypeError:\n",
    "    print(\"TypeError\")\n",
    "\n",
    "# 查看and语句的字节码\n",
    "import dis\n",
    "dis.opmap\n",
    "def and_op_test(value_1, value_2):\n",
    "    return not ((value_1<0 and value_2<0) or (value_1 != value_2))\n",
    "\n",
    "dis.dis(and_op_test)"
   ]
  },
  {
   "cell_type": "markdown",
   "metadata": {},
   "source": [
    "## 一元运算符的重载"
   ]
  },
  {
   "cell_type": "markdown",
   "metadata": {},
   "source": [
    "## 增量赋值运算符的特殊性"
   ]
  },
  {
   "cell_type": "markdown",
   "metadata": {},
   "source": [
    "## 二元运算符的重载"
   ]
  },
  {
   "cell_type": "markdown",
   "metadata": {},
   "source": [
    "## 比较运算符的特殊性"
   ]
  },
  {
   "cell_type": "markdown",
   "metadata": {},
   "source": [
    "## 总结"
   ]
  }
 ],
 "metadata": {
  "interpreter": {
   "hash": "c81b77944e1b7825fbfc169e02da53e798f21a1c636c4b38940352ba85692786"
  },
  "kernelspec": {
   "display_name": "Python 3.7.12 ('flyai_pytorch1_5')",
   "language": "python",
   "name": "python3"
  },
  "language_info": {
   "codemirror_mode": {
    "name": "ipython",
    "version": 3
   },
   "file_extension": ".py",
   "mimetype": "text/x-python",
   "name": "python",
   "nbconvert_exporter": "python",
   "pygments_lexer": "ipython3",
   "version": "3.7.12"
  },
  "orig_nbformat": 4
 },
 "nbformat": 4,
 "nbformat_minor": 2
}
