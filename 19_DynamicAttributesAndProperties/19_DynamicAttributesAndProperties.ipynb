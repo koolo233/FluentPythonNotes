{
 "cells": [
  {
   "cell_type": "markdown",
   "metadata": {},
   "source": [
    "# 动态属性和特性\n",
    "\n",
    "属性（attribute）：数据的属性以及处理数据的方法的总称\n",
    "特性（property）：不改变类接口的前提下，使用存取方法修改数据属性的方法\n",
    "\n",
    "\n",
    "此外，Python还提供了控制属性以及实现动态属性的API。\n",
    "\n",
    "本章以处理嵌套字典为例说明如何在Python中实现动态属性。\n",
    "\n",
    "## 基于动态属性的嵌套字典访问\n",
    "\n",
    "访问嵌套字典中某个特定数据最简单的方法就是通过多个键来访问，类似于：test_dict[key_1][key_2][key_3]，这种访问方法略显臃肿。另一种方法就是动态属性，即，运行使用类似于访问属性的方式访问嵌套字典中某个特定数据，类似于：test_dict.key_1.key_2.key_3\n",
    "\n",
    "实现上述功能的关键是定义__getattr__方法，该方法会在无法使用常规方法获取属性时被调用\n",
    "\n",
    "本章实现的嵌套字典访问类如下，由于该类仅实现了__init__和__getattr__，因此尝试获取其他属性时均会调用__getattr__\n",
    "\n",
    "对其逻辑的分析如下：\n",
    "1. 将字典转换为FrozenDict对象\n",
    "2. 当使用FrozenDict.key访问某一个属性时\n",
    "    * self._data具有该属性（注意是属性，而不是key），直接获取该属性并返回\n",
    "    * self._data不具有该属性，尝试从self._data[key]建立新FrozenDict并返回\n",
    "\n",
    "对于build类方法：\n",
    "1. 若self._data[key]是映射（字典），则利用该映射创建新FrozenDict\n",
    "2. 若self._data[key]是序列（列表），则尝试利用该序列的元素逐个创建新FrozenDict\n",
    "3. 若既不是映射也不是序列（大概率是数值、字符串），则直接返回该元素"
   ]
  },
  {
   "cell_type": "code",
   "execution_count": 1,
   "metadata": {},
   "outputs": [],
   "source": [
    "from collections import abc\n",
    "\n",
    "class FrozenDict:\n",
    "\n",
    "    def __init__(self, mapping):\n",
    "        self._data = dict(mapping)\n",
    "    \n",
    "    def __getattr__(self, name):\n",
    "        if hasattr(self._data, name):\n",
    "            return getattr(self._data, name)\n",
    "        else:\n",
    "            return FrozenDict.build(self._data[name])\n",
    "    \n",
    "    @classmethod\n",
    "    def build(cls, obj):\n",
    "        if isinstance(obj, abc.Mapping):\n",
    "            return cls(obj)\n",
    "        elif isinstance(obj, abc.MutableSequence):\n",
    "            return [cls.build(item) for item in obj]\n",
    "        else:\n",
    "            return obj"
   ]
  },
  {
   "cell_type": "markdown",
   "metadata": {},
   "source": [
    "上述创建的FrozenDict有如下几个特点（缺陷）：\n",
    "1. 没有对每一次访问的结果进行缓存或转换保存，每次调用均是临时创建\n",
    "2. 没有对key的名称进行特殊处理，若存在以Python关键字命名的key，会出现无法调用的情况\n",
    "3. key不是有效的标识符（例如包含特殊字符或者以数字开头），因此无法调用\n",
    "\n",
    "对于第一点，当传入的dict不是非常复杂时无关紧要；对于第二点，可以尝试使用对键名进行改写来规避这个问题；对于第三点，则需要对键名进行完全的改写或者直接抛出错误拒绝处理"
   ]
  },
  {
   "cell_type": "markdown",
   "metadata": {},
   "source": [
    "### __init__和__new__\n",
    "\n",
    "上述嵌套字典的解析依靠类方法build。build类方法的存在使得访问实例属性时，不同的值会返回不同类型的对象。\n",
    "\n",
    "Python中创建类实例的实际上是__new__，创建的实例会作为第一个参数传递给__init__，然后__init__实现初始化。__new__默认返回的是当前类的实例，__new__实际上也可以返回其他类的实例，此时解释器不会调用__init__方法。\n",
    "\n",
    "鉴于此，上述的嵌套字典解析类可以使用__new__代替build，代码如下："
   ]
  },
  {
   "cell_type": "code",
   "execution_count": null,
   "metadata": {},
   "outputs": [],
   "source": [
    "from collections import abc\n",
    "\n",
    "class FrozenDict:\n",
    "\n",
    "    def __new__(cls, arg):\n",
    "        if isinstance(arg, abc.Mapping):\n",
    "            return cls(arg)\n",
    "        elif isinstance(arg, abc.MutableSequence):\n",
    "            return [cls.build(item) for item in arg]\n",
    "        else:\n",
    "            return arg\n",
    "\n",
    "    def __init__(self, mapping):\n",
    "        self._data = dict(mapping)\n",
    "    \n",
    "    def __getattr__(self, name):\n",
    "        if hasattr(self._data, name):\n",
    "            return getattr(self._data, name)\n",
    "        else:\n",
    "            return FrozenDict(self._data[name])"
   ]
  },
  {
   "cell_type": "markdown",
   "metadata": {},
   "source": [
    "## 特性与属性验证\n",
    "\n",
    "默认情况下，可以任意改变Python属性的取值，但是在一些应用中取值有一些限制。为了施加这种限制，一种朴素的方法是：分离读值方法以及设值方法，并且在设值方法中对值进行验证。\n",
    "\n",
    "本书以一个简单的订货系统为例，描述上述的过程\n",
    "\n",
    "基础代码如下"
   ]
  },
  {
   "cell_type": "code",
   "execution_count": null,
   "metadata": {},
   "outputs": [],
   "source": [
    "class LineItem:\n",
    "\n",
    "    def __init__(self, description, weight, price):\n",
    "        self.description = description\n",
    "        self.weight = weight\n",
    "        self.price = price\n",
    "    \n",
    "    def subtotal(self):\n",
    "        return self.weight * self.price"
   ]
  },
  {
   "cell_type": "markdown",
   "metadata": {},
   "source": [
    "在该实现中，并没有对属性的取值进行验证，当设值是无效时，该类的实例也会返回错误的结果（正常来说，这里应当拒绝计算或者阻止设置无效值）。\n",
    "\n",
    "基于此，可以将上述类改写如下。"
   ]
  },
  {
   "cell_type": "code",
   "execution_count": 6,
   "metadata": {},
   "outputs": [
    {
     "ename": "ValueError",
     "evalue": "value must be > 0",
     "output_type": "error",
     "traceback": [
      "\u001b[1;31m---------------------------------------------------------------------------\u001b[0m",
      "\u001b[1;31mValueError\u001b[0m                                Traceback (most recent call last)",
      "\u001b[1;32m~\\AppData\\Local\\Temp/ipykernel_83456/2630290638.py\u001b[0m in \u001b[0;36m<module>\u001b[1;34m\u001b[0m\n\u001b[0;32m     25\u001b[0m             \u001b[1;32mraise\u001b[0m \u001b[0mValueError\u001b[0m\u001b[1;33m(\u001b[0m\u001b[1;34m\"value must be > 0\"\u001b[0m\u001b[1;33m)\u001b[0m\u001b[1;33m\u001b[0m\u001b[1;33m\u001b[0m\u001b[0m\n\u001b[0;32m     26\u001b[0m \u001b[1;33m\u001b[0m\u001b[0m\n\u001b[1;32m---> 27\u001b[1;33m \u001b[0mtest_item\u001b[0m \u001b[1;33m=\u001b[0m \u001b[0mLineItem\u001b[0m\u001b[1;33m(\u001b[0m\u001b[1;34m\"test\"\u001b[0m\u001b[1;33m,\u001b[0m \u001b[1;33m-\u001b[0m\u001b[1;36m10\u001b[0m\u001b[1;33m,\u001b[0m \u001b[1;36m1\u001b[0m\u001b[1;33m)\u001b[0m\u001b[1;33m\u001b[0m\u001b[1;33m\u001b[0m\u001b[0m\n\u001b[0m",
      "\u001b[1;32m~\\AppData\\Local\\Temp/ipykernel_83456/2630290638.py\u001b[0m in \u001b[0;36m__init__\u001b[1;34m(self, description, weight, price)\u001b[0m\n\u001b[0;32m      5\u001b[0m \u001b[1;33m\u001b[0m\u001b[0m\n\u001b[0;32m      6\u001b[0m         \u001b[1;31m# 此处就会调用设值方法对weight进行检查\u001b[0m\u001b[1;33m\u001b[0m\u001b[1;33m\u001b[0m\u001b[1;33m\u001b[0m\u001b[0m\n\u001b[1;32m----> 7\u001b[1;33m         \u001b[0mself\u001b[0m\u001b[1;33m.\u001b[0m\u001b[0mweight\u001b[0m \u001b[1;33m=\u001b[0m \u001b[0mweight\u001b[0m\u001b[1;33m\u001b[0m\u001b[1;33m\u001b[0m\u001b[0m\n\u001b[0m\u001b[0;32m      8\u001b[0m         \u001b[0mself\u001b[0m\u001b[1;33m.\u001b[0m\u001b[0mprice\u001b[0m \u001b[1;33m=\u001b[0m \u001b[0mprice\u001b[0m\u001b[1;33m\u001b[0m\u001b[1;33m\u001b[0m\u001b[0m\n\u001b[0;32m      9\u001b[0m \u001b[1;33m\u001b[0m\u001b[0m\n",
      "\u001b[1;32m~\\AppData\\Local\\Temp/ipykernel_83456/2630290638.py\u001b[0m in \u001b[0;36mweight\u001b[1;34m(self, value)\u001b[0m\n\u001b[0;32m     23\u001b[0m             \u001b[0mself\u001b[0m\u001b[1;33m.\u001b[0m\u001b[0m_weight\u001b[0m \u001b[1;33m=\u001b[0m \u001b[0mvalue\u001b[0m\u001b[1;33m\u001b[0m\u001b[1;33m\u001b[0m\u001b[0m\n\u001b[0;32m     24\u001b[0m         \u001b[1;32melse\u001b[0m\u001b[1;33m:\u001b[0m\u001b[1;33m\u001b[0m\u001b[1;33m\u001b[0m\u001b[0m\n\u001b[1;32m---> 25\u001b[1;33m             \u001b[1;32mraise\u001b[0m \u001b[0mValueError\u001b[0m\u001b[1;33m(\u001b[0m\u001b[1;34m\"value must be > 0\"\u001b[0m\u001b[1;33m)\u001b[0m\u001b[1;33m\u001b[0m\u001b[1;33m\u001b[0m\u001b[0m\n\u001b[0m\u001b[0;32m     26\u001b[0m \u001b[1;33m\u001b[0m\u001b[0m\n\u001b[0;32m     27\u001b[0m \u001b[0mtest_item\u001b[0m \u001b[1;33m=\u001b[0m \u001b[0mLineItem\u001b[0m\u001b[1;33m(\u001b[0m\u001b[1;34m\"test\"\u001b[0m\u001b[1;33m,\u001b[0m \u001b[1;33m-\u001b[0m\u001b[1;36m10\u001b[0m\u001b[1;33m,\u001b[0m \u001b[1;36m1\u001b[0m\u001b[1;33m)\u001b[0m\u001b[1;33m\u001b[0m\u001b[1;33m\u001b[0m\u001b[0m\n",
      "\u001b[1;31mValueError\u001b[0m: value must be > 0"
     ]
    }
   ],
   "source": [
    "class LineItem:\n",
    "\n",
    "    def __init__(self, description, weight, price):\n",
    "        self.description = description\n",
    "\n",
    "        # 此处就会调用设值方法对weight进行检查\n",
    "        self.weight = weight\n",
    "        self.price = price\n",
    "    \n",
    "    def subtotal(self):\n",
    "        return self.weight * self.price\n",
    "    \n",
    "    @property\n",
    "    # 读值方法\n",
    "    def weight(self):\n",
    "        return self._weight\n",
    "    \n",
    "    @weight.setter\n",
    "    # 设值方法\n",
    "    def weight(self, value):\n",
    "        # 属性验证\n",
    "        if value > 0:\n",
    "            self._weight = value\n",
    "        else:\n",
    "            raise ValueError(\"value must be > 0\")\n",
    "    \n",
    "test_item = LineItem(\"test\", -10, 1)"
   ]
  },
  {
   "cell_type": "markdown",
   "metadata": {},
   "source": [
    "### property\n",
    "\n",
    "property实际上是一个类，虽然常用作装饰器\n",
    "\n",
    "其构造方法如下：\n",
    "property(fget=None, fset=None, fdel=None, doc=None)\n",
    "\n",
    "所有参数都是可选的，分别实现：读值方法、设值方法、删除方法以及文档\n",
    "\n",
    "### 特性、实例属性以及类属性\n",
    "\n",
    "主要是几个规则，对于同名的属性/特性：\n",
    "1. 实例属性会遮盖类属性\n",
    "2. 实例属性不会覆盖类特性（尝试覆盖则抛出AttributeError）\n",
    "3. 对类进行操作可以实现特性的覆盖以及销毁\n",
    "4. 新增的类特性会遮盖现有的实例属性，销毁后复原\n",
    "\n",
    "上述规则实际上表明：特性的“优先级”高于属性，当尝试获取attr时，首先会从obj.__class__中查找是否有名为attr的特性\n",
    "\n",
    "### 文档\n",
    "\n",
    "property的构造方法表明特性是可以设定文档的，当以装饰器的形式创建property时，该方法的文档字符串会被返回，测试例子如下"
   ]
  },
  {
   "cell_type": "code",
   "execution_count": 10,
   "metadata": {},
   "outputs": [
    {
     "name": "stdout",
     "output_type": "stream",
     "text": [
      "Foo类的帮助文档\n",
      "Help on class Foo in module __main__:\n",
      "\n",
      "class Foo(builtins.object)\n",
      " |  Data descriptors defined here:\n",
      " |  \n",
      " |  __dict__\n",
      " |      dictionary for instance variables (if defined)\n",
      " |  \n",
      " |  __weakref__\n",
      " |      list of weak references to the object (if defined)\n",
      " |  \n",
      " |  bar\n",
      " |      The bar attribute\n",
      "\n",
      "\n",
      "Foo.bar特性的帮助文档\n",
      "Help on property:\n",
      "\n",
      "    The bar attribute\n",
      "\n"
     ]
    }
   ],
   "source": [
    "class Foo:\n",
    "\n",
    "    @property\n",
    "    def bar(self):\n",
    "        \"\"\"\n",
    "        The bar attribute\n",
    "        \"\"\"\n",
    "        return self.__dict__[\"bar\"]\n",
    "    \n",
    "    @bar.setter\n",
    "    def bar(self, value):\n",
    "        self.__dict__[\"bar\"] = value\n",
    "\n",
    "print(\"Foo类的帮助文档\")\n",
    "help(Foo)\n",
    "\n",
    "print(\"\\nFoo.bar特性的帮助文档\")\n",
    "help(Foo.bar)"
   ]
  },
  {
   "cell_type": "markdown",
   "metadata": {},
   "source": [
    "## 特性工厂\n",
    "\n",
    "通常，一个类中可能有多个属性需要设定读值以及设值方法，若使用上述的方法逐个设置，显然有大量冗余代码。本节就是尝试对此进行改进，具体来说，使用“特性工厂”封装读值以及设值。\n",
    "\n",
    "本节依然以上述的订货系统为例，在下述实现中weight和price均要求>0"
   ]
  },
  {
   "cell_type": "code",
   "execution_count": 7,
   "metadata": {},
   "outputs": [
    {
     "ename": "ValueError",
     "evalue": "value must be > 0",
     "output_type": "error",
     "traceback": [
      "\u001b[1;31m---------------------------------------------------------------------------\u001b[0m",
      "\u001b[1;31mValueError\u001b[0m                                Traceback (most recent call last)",
      "\u001b[1;32m~\\AppData\\Local\\Temp/ipykernel_83456/779744873.py\u001b[0m in \u001b[0;36m<module>\u001b[1;34m\u001b[0m\n\u001b[0;32m     27\u001b[0m         \u001b[1;32mreturn\u001b[0m \u001b[0mself\u001b[0m\u001b[1;33m.\u001b[0m\u001b[0mweight\u001b[0m \u001b[1;33m*\u001b[0m \u001b[0mself\u001b[0m\u001b[1;33m.\u001b[0m\u001b[0mprice\u001b[0m\u001b[1;33m\u001b[0m\u001b[1;33m\u001b[0m\u001b[0m\n\u001b[0;32m     28\u001b[0m \u001b[1;33m\u001b[0m\u001b[0m\n\u001b[1;32m---> 29\u001b[1;33m \u001b[0mtest_item\u001b[0m \u001b[1;33m=\u001b[0m \u001b[0mLineItem\u001b[0m\u001b[1;33m(\u001b[0m\u001b[1;34m\"test\"\u001b[0m\u001b[1;33m,\u001b[0m \u001b[1;36m10\u001b[0m\u001b[1;33m,\u001b[0m \u001b[1;33m-\u001b[0m\u001b[1;36m1\u001b[0m\u001b[1;33m)\u001b[0m\u001b[1;33m\u001b[0m\u001b[1;33m\u001b[0m\u001b[0m\n\u001b[0m",
      "\u001b[1;32m~\\AppData\\Local\\Temp/ipykernel_83456/779744873.py\u001b[0m in \u001b[0;36m__init__\u001b[1;34m(self, description, weight, price)\u001b[0m\n\u001b[0;32m     22\u001b[0m         \u001b[0mself\u001b[0m\u001b[1;33m.\u001b[0m\u001b[0mweight\u001b[0m \u001b[1;33m=\u001b[0m \u001b[0mweight\u001b[0m\u001b[1;33m\u001b[0m\u001b[1;33m\u001b[0m\u001b[0m\n\u001b[0;32m     23\u001b[0m         \u001b[1;31m# 此处就会调用设值方法对price进行检查\u001b[0m\u001b[1;33m\u001b[0m\u001b[1;33m\u001b[0m\u001b[1;33m\u001b[0m\u001b[0m\n\u001b[1;32m---> 24\u001b[1;33m         \u001b[0mself\u001b[0m\u001b[1;33m.\u001b[0m\u001b[0mprice\u001b[0m \u001b[1;33m=\u001b[0m \u001b[0mprice\u001b[0m\u001b[1;33m\u001b[0m\u001b[1;33m\u001b[0m\u001b[0m\n\u001b[0m\u001b[0;32m     25\u001b[0m \u001b[1;33m\u001b[0m\u001b[0m\n\u001b[0;32m     26\u001b[0m     \u001b[1;32mdef\u001b[0m \u001b[0msubtotal\u001b[0m\u001b[1;33m(\u001b[0m\u001b[0mself\u001b[0m\u001b[1;33m)\u001b[0m\u001b[1;33m:\u001b[0m\u001b[1;33m\u001b[0m\u001b[1;33m\u001b[0m\u001b[0m\n",
      "\u001b[1;32m~\\AppData\\Local\\Temp/ipykernel_83456/779744873.py\u001b[0m in \u001b[0;36mqty_setter\u001b[1;34m(instance, value)\u001b[0m\n\u001b[0;32m      8\u001b[0m             \u001b[0minstance\u001b[0m\u001b[1;33m.\u001b[0m\u001b[0m__dict__\u001b[0m\u001b[1;33m[\u001b[0m\u001b[0mstorage_name\u001b[0m\u001b[1;33m]\u001b[0m \u001b[1;33m=\u001b[0m \u001b[0mvalue\u001b[0m\u001b[1;33m\u001b[0m\u001b[1;33m\u001b[0m\u001b[0m\n\u001b[0;32m      9\u001b[0m         \u001b[1;32melse\u001b[0m\u001b[1;33m:\u001b[0m\u001b[1;33m\u001b[0m\u001b[1;33m\u001b[0m\u001b[0m\n\u001b[1;32m---> 10\u001b[1;33m             \u001b[1;32mraise\u001b[0m \u001b[0mValueError\u001b[0m\u001b[1;33m(\u001b[0m\u001b[1;34m\"value must be > 0\"\u001b[0m\u001b[1;33m)\u001b[0m\u001b[1;33m\u001b[0m\u001b[1;33m\u001b[0m\u001b[0m\n\u001b[0m\u001b[0;32m     11\u001b[0m \u001b[1;33m\u001b[0m\u001b[0m\n\u001b[0;32m     12\u001b[0m     \u001b[1;32mreturn\u001b[0m \u001b[0mproperty\u001b[0m\u001b[1;33m(\u001b[0m\u001b[0mqty_getter\u001b[0m\u001b[1;33m,\u001b[0m \u001b[0mqty_setter\u001b[0m\u001b[1;33m)\u001b[0m\u001b[1;33m\u001b[0m\u001b[1;33m\u001b[0m\u001b[0m\n",
      "\u001b[1;31mValueError\u001b[0m: value must be > 0"
     ]
    }
   ],
   "source": [
    "def quantity(storage_name):\n",
    "\n",
    "    def qty_getter(instance):\n",
    "        return instance.__dict__[storage_name]\n",
    "    \n",
    "    def qty_setter(instance, value):\n",
    "        if value > 0:\n",
    "            instance.__dict__[storage_name] = value\n",
    "        else:\n",
    "            raise ValueError(\"value must be > 0\")\n",
    "    \n",
    "    return property(qty_getter, qty_setter)\n",
    "\n",
    "class LineItem:\n",
    "\n",
    "    weight = quantity(\"weight\")\n",
    "    price = quantity(\"price\")\n",
    "\n",
    "    def __init__(self, description, weight, price):\n",
    "        self.description = description\n",
    "        # 此处就会调用设值方法对weight进行检查\n",
    "        self.weight = weight\n",
    "        # 此处就会调用设值方法对price进行检查\n",
    "        self.price = price\n",
    "    \n",
    "    def subtotal(self):\n",
    "        return self.weight * self.price\n",
    "\n",
    "test_item = LineItem(\"test\", 10, -1)"
   ]
  },
  {
   "cell_type": "markdown",
   "metadata": {},
   "source": [
    "上述代码实际上规避了一些潜在问题，具体来说：\n",
    "1. quantity中尝试直接从obj.__dict__中取值或者存值，避免特性的无限递归（若直接使用obj.attr存取值，则会无限递归特性，因为在调用属性前始终会检查是否有同名的特性）\n",
    "2. 同样得益于quantity的实现方法，上述LineItem不再需要使用_weight和_price存储以及设定对应的self.weight和self.price的值"
   ]
  },
  {
   "cell_type": "markdown",
   "metadata": {},
   "source": [
    "## 属性删除\n",
    "\n",
    "类似于设值以及传值，特性同样可以用来定义如何删除属性。具体来说，就是传入property(fget=None, fset=None, fdel=None, doc=None)中的fdel。"
   ]
  },
  {
   "cell_type": "markdown",
   "metadata": {},
   "source": [
    "## 处理属性的重要属性和函数\n",
    "\n",
    "本节主要是汇总了处理属性时会涉及到的属性以及函数，需要重点关注\n",
    "\n",
    "### 特殊属性\n",
    "\n",
    "* __class__属性\n",
    "对象所属类的引用，类属性以及特性均会在该属性中寻找\n",
    "* __dict__属性\n",
    "存储对象或者类的可写属性\n",
    "* __slots__属性\n",
    "若存在__slots__则实例可能没有__dict__，该属性用于指明对象允许拥有的属性\n",
    "\n",
    "### 内置函数\n",
    "\n",
    "* dir([object])\n",
    "列出对象的大多数属性\n",
    "* getattr(object, name[, default])\n",
    "从object中获取name对应的属性\n",
    "* hasattr(object, name)\n",
    "判断object是否有名为name的属性\n",
    "* setattr(object, name, value)\n",
    "设定object的name属性的值为value\n",
    "* vars([object])\n",
    "返回object的__dict__属性，若不存在__dict__则抛出错误\n",
    "\n",
    "### 特殊方法\n",
    "\n",
    "有两点注意：\n",
    "1. 通常假定特殊方法从类获取，即特殊方法不会被同名的实例属性覆盖\n",
    "2. 通过内置函数存取属性时会触发对应的特殊方法，为了绕开这些特殊方法，可以直接读写实例的__dict__\n",
    "\n",
    "* __delattr__(self, name)\n",
    "删除属性 ——> del语句\n",
    "* __dir__(self)\n",
    "列出属性 ——> dir函数\n",
    "* __getattr__(self, name)\n",
    "通常方法获取属性失败后调用（obj、Class以及SubClass中均找不到该属性时触发）\n",
    "* __getattribute__(self, name)\n",
    "获取属性，若抛出AttributeError时调用__getattr__方法\n",
    "* __setattr__(self, name, value)\n",
    "设定属性值"
   ]
  },
  {
   "cell_type": "markdown",
   "metadata": {},
   "source": [
    "## 总结\n",
    "\n",
    "* Python中属性（attribute）和特性（property）是两个概念，前者是数据属性以及处理数据的方法的总称，后者则是在不改变类接口的前提下，使用存取方法修改数据属性的方法\n",
    "* 由于在通过通用方法没有查询到特定属性的值时均会调用__getattr__，通过实现__getattr__方法能够实现非常灵活的动态属性存取\n",
    "* __new__和__init__有千丝万缕的联系，Python中创建实例的实际上是__new__，实现初始化的则是__init__\n",
    "* 分离读值方法和设值方法是为属性取值施加约束的朴素方法，Python的特性为实现这一功能提供了很好的支持\n",
    "* @property装饰器以及@attr.setter装饰器能够分别实现属性的读值方法以及设值方法\n",
    "* property通常作为装饰器出现，但是其实际上是一个类，其构造方法为：property(fget=None, fset=None, fdel=None, doc=None)，即允许定义读值方法、设值方法、删除方法以及文档\n",
    "* 特性、实例属性以及类属性之间有严格的处理顺序，其中特性总是被优先处理\n",
    "* 为了实现上述的动态属性编程，Python从特殊属性、内置函数以及特殊方法三个方面提供了支持"
   ]
  }
 ],
 "metadata": {
  "interpreter": {
   "hash": "b8a4c6ecf0dc4f4c9b77748b23892a3be1da21104833e3e7908a4f34cc3c9061"
  },
  "kernelspec": {
   "display_name": "Python 3.8.0 ('DIP')",
   "language": "python",
   "name": "python3"
  },
  "language_info": {
   "codemirror_mode": {
    "name": "ipython",
    "version": 3
   },
   "file_extension": ".py",
   "mimetype": "text/x-python",
   "name": "python",
   "nbconvert_exporter": "python",
   "pygments_lexer": "ipython3",
   "version": "3.8.0"
  },
  "orig_nbformat": 4
 },
 "nbformat": 4,
 "nbformat_minor": 2
}
