{
 "cells": [
  {
   "cell_type": "markdown",
   "metadata": {},
   "source": [
    "# 可迭代的对象、迭代器和生成器\n",
    "\n",
    "迭代器用于从集合中取出元素；生成器用于“凭空”生成元素。Python中所有集合均可以迭代，迭代器支持如下功能的正常运作：\n",
    "1. for循环\n",
    "2. 构建和扩展集合类型\n",
    "3. 逐行遍历文本文件\n",
    "4. 列表推导、字典推导和集合推导\n",
    "5. 元组拆包\n",
    "6. 调用函数时，使用*拆包实参"
   ]
  },
  {
   "cell_type": "markdown",
   "metadata": {},
   "source": [
    "## 可迭代的序列\n",
    "\n",
    "当解释器迭代对象时，会自动调用iter()函数以生成迭代器。具体来说，iter()函数会按照如下流程尝试获取一个迭代器：\n",
    "1. 检查对象是否有__iter__方法。若有，则调用该函数并返回一个迭代器；否则进行第2步\n",
    "2. 检查对象是否有__getitem__方法。若有，则创建一个迭代器，该迭代器尝试按照索引顺序获取元素（从0开始）；否则进行第3步\n",
    "3. 抛出TypeError，并提示该对象不可迭代\n",
    "\n",
    "从鸭子类型（duck typing）的角度来看：上述流程显然是符合鸭子类型的，只要对象实现了__iter__方法，或者__getitem__方法，该对象就可以迭代\n",
    "从白鹅类型（goose typing）的角度来看：可迭代的对象更简单，但是更局限。只要实现了__iter__方法，就认为该对象是可迭代的。若仅实现了__getitem__方法，则无法通过issubclass的类型检查。\n",
    "\n",
    "鉴于上述描述，若要在Python中检查一个对象是否是可迭代的，最好是直接使用iter()尝试构建迭代器，而不是使用issubclass检查该对象对应的类是否是abc.Iterable的子类。"
   ]
  },
  {
   "cell_type": "markdown",
   "metadata": {},
   "source": [
    "## 可迭代对象与迭代器\n",
    "\n",
    "**可迭代对象不是迭代器，可迭代对象可以通过iter()函数返回一个迭代器**。\n",
    "\n",
    "for循环和while循环不同。for循环一个可迭代对象时，会自动生成一个迭代器用于迭代。但是while循环则不具有这样的功能，若想在while循环中迭代一个可迭代对象，开发者需要手动创建迭代器。\n",
    "\n",
    "下述例子展示了for循环和while循环迭代一个可迭代对象时的区别。字节码清晰描述了这两种方式的区别。对于for循环，解释器使用字节码GET_ITER从可迭代对象生成了一个迭代器用于迭代；对于while循环，解释器使用字节码CALL_FUNCTION，尝试利用iter()函数从可迭代对象生成一个迭代器。"
   ]
  },
  {
   "cell_type": "code",
   "execution_count": 16,
   "metadata": {},
   "outputs": [
    {
     "name": "stdout",
     "output_type": "stream",
     "text": [
      "for循环迭代字符串s：\n",
      "A\n",
      "B\n",
      "C\n",
      "for循环字节码：\n",
      "  4           0 LOAD_GLOBAL              0 (print)\n",
      "              2 LOAD_CONST               1 ('for循环迭代字符串s：')\n",
      "              4 CALL_FUNCTION            1\n",
      "              6 POP_TOP\n",
      "\n",
      "  5           8 SETUP_LOOP              20 (to 30)\n",
      "             10 LOAD_FAST                0 (s)\n",
      "             12 GET_ITER\n",
      "        >>   14 FOR_ITER                12 (to 28)\n",
      "             16 STORE_FAST               1 (char)\n",
      "\n",
      "  6          18 LOAD_GLOBAL              0 (print)\n",
      "             20 LOAD_FAST                1 (char)\n",
      "             22 CALL_FUNCTION            1\n",
      "             24 POP_TOP\n",
      "             26 JUMP_ABSOLUTE           14\n",
      "        >>   28 POP_BLOCK\n",
      "        >>   30 LOAD_CONST               0 (None)\n",
      "             32 RETURN_VALUE\n",
      "None\n",
      "\n",
      "\n",
      "while循环迭代字符串s：\n",
      "A\n",
      "B\n",
      "C\n",
      "while循环字节码：\n",
      "  9           0 LOAD_GLOBAL              0 (print)\n",
      "              2 LOAD_CONST               1 ('\\n\\nwhile循环迭代字符串s：')\n",
      "              4 CALL_FUNCTION            1\n",
      "              6 POP_TOP\n",
      "\n",
      " 10           8 LOAD_GLOBAL              1 (iter)\n",
      "             10 LOAD_FAST                0 (s)\n",
      "             12 CALL_FUNCTION            1\n",
      "             14 STORE_FAST               1 (_it)\n",
      "\n",
      " 11          16 SETUP_LOOP              46 (to 64)\n",
      "\n",
      " 12     >>   18 SETUP_EXCEPT            16 (to 36)\n",
      "\n",
      " 13          20 LOAD_GLOBAL              0 (print)\n",
      "             22 LOAD_GLOBAL              2 (next)\n",
      "             24 LOAD_FAST                1 (_it)\n",
      "             26 CALL_FUNCTION            1\n",
      "             28 CALL_FUNCTION            1\n",
      "             30 POP_TOP\n",
      "             32 POP_BLOCK\n",
      "             34 JUMP_ABSOLUTE           18\n",
      "\n",
      " 14     >>   36 DUP_TOP\n",
      "             38 LOAD_GLOBAL              3 (StopIteration)\n",
      "             40 COMPARE_OP              10 (exception match)\n",
      "             42 POP_JUMP_IF_FALSE       58\n",
      "             44 POP_TOP\n",
      "             46 POP_TOP\n",
      "             48 POP_TOP\n",
      "\n",
      " 15          50 DELETE_FAST              1 (_it)\n",
      "\n",
      " 16          52 BREAK_LOOP\n",
      "             54 POP_EXCEPT\n",
      "             56 JUMP_ABSOLUTE           18\n",
      "        >>   58 END_FINALLY\n",
      "             60 JUMP_ABSOLUTE           18\n",
      "             62 POP_BLOCK\n",
      "        >>   64 LOAD_CONST               0 (None)\n",
      "             66 RETURN_VALUE\n",
      "None\n"
     ]
    }
   ],
   "source": [
    "import dis\n",
    "\n",
    "def for_iter(s):\n",
    "    print(\"for循环迭代字符串s：\")\n",
    "    for char in s:\n",
    "        print(char)\n",
    "\n",
    "def while_iter(s):\n",
    "    print(\"\\n\\nwhile循环迭代字符串s：\")\n",
    "    _it = iter(s)\n",
    "    while True:\n",
    "        try:\n",
    "            print(next(_it))\n",
    "        except StopIteration:\n",
    "            del _it\n",
    "            break\n",
    "\n",
    "s = \"ABC\"\n",
    "for_iter(s)\n",
    "print(\"for循环字节码：\")\n",
    "print(dis.dis(for_iter))\n",
    "while_iter(s)\n",
    "print(\"while循环字节码：\")\n",
    "print(dis.dis(while_iter))"
   ]
  },
  {
   "cell_type": "markdown",
   "metadata": {},
   "source": [
    "### 迭代器的本质\n",
    "\n",
    "迭代器：迭代器是这样一种对象：一个实现了无参数__next__方法用于返回序列中下一个元素，若没有下一个元素则抛出StopIteration异常的对象。\n",
    "\n",
    "内置的迭代器仅有两个方法：__next__和__iter__。而__iter__函数会返回迭代器对象自身。因此迭代器无法检查元素数量、无法检查是否有遗留元素并且也无法“复原”已经迭代过的元素。\n",
    "\n",
    "### 可迭代对象不是迭代器\n",
    "\n",
    "问题：一个对象是否可以既是可迭代对象同时也是迭代器？\n",
    "\n",
    "假设一个对象是可迭代对象，那么该对象应当实现了__iter__方法；若该对象是迭代器，则该对象实现了__next__和__iter__，并且__iter__返回该对象自身。当使用iter()函数调用该对象时，__iter__会返回一个迭代器，此时__iter__会返回其自身。\n",
    "\n",
    "设计模式中对迭代器模型有如下描述：\n",
    "1. 迭代器可以访问一个聚合对象的内容而无需暴露它的内部表示\n",
    "2. 迭代器支持对聚合对象的多种遍历\n",
    "3. 迭代器为遍历不同的聚合结构提供一个统一的接口（支持多态）\n",
    "\n",
    "上述第二点实际上表明应当能从一个对象中获取多个独立的迭代器。这些迭代器应当能够单独维护各自的状态。若一个对象是可迭代对象的同时，也是迭代器，那就无法实现这一点 —— 该对象总是会返回其自身\n",
    "\n",
    "除此之外，当一个对象是可迭代对象的同时也是迭代器时会发生严重错误。由于__iter__会返回其自身，根据迭代器的特性，当完成一次完整的迭代后，该迭代器已经失效。此时若想重新迭代则需要使用iter()创建新的迭代器，但是使用iter()创建该对象的新迭代器时总是会返回该对象自身，而该对象自身对应的迭代器已经耗尽无法进行迭代。下述例子描述了这一问题。该例子中，第一次迭代完全正常，但是尝试进行第二次迭代时会发现迭代器为空。"
   ]
  },
  {
   "cell_type": "code",
   "execution_count": 24,
   "metadata": {},
   "outputs": [
    {
     "name": "stdout",
     "output_type": "stream",
     "text": [
      "第一次迭代\n",
      "所有元素： [1, 2, 3, 4]\n",
      "4\n",
      "3\n",
      "2\n",
      "1\n",
      "\n",
      "\n",
      "第二次迭代\n",
      "所有元素： []\n"
     ]
    }
   ],
   "source": [
    "class TestListIter:\n",
    "\n",
    "    def __init__(self, components):\n",
    "        self.components = list(components)\n",
    "    \n",
    "    def __iter__(self):\n",
    "        \"\"\"\n",
    "        迭代器模式\n",
    "        返回自身作为迭代器\n",
    "        \"\"\"\n",
    "        return self\n",
    "    \n",
    "    def __next__(self):\n",
    "        \"\"\"\n",
    "        迭代器要求实现的next方法\n",
    "        \"\"\"\n",
    "        try:\n",
    "            component = self.components.pop()\n",
    "        except IndexError:\n",
    "            raise StopIteration()\n",
    "        return component\n",
    "    \n",
    "    def __repr__(self):\n",
    "        return str(self.components)\n",
    "\n",
    "test_list = TestListIter([1, 2, 3, 4])\n",
    "print(\"第一次迭代\")\n",
    "print(\"所有元素：\", test_list)\n",
    "for i in test_list:\n",
    "    print(i)\n",
    "\n",
    "print(\"\\n\\n第二次迭代\")\n",
    "print(\"所有元素：\", test_list)\n",
    "for i in test_list:\n",
    "    print(i)"
   ]
  },
  {
   "cell_type": "markdown",
   "metadata": {},
   "source": [
    "## 生成器\n",
    "\n",
    "Python利用yield关键字定义生成器函数。只要函数中存在yield关键字，该函数就是一个生成器函数，当调用该函数时会返回一个生成器对象。使用next()函数处理生成器对象后，该生成器对象会向前执行一次yield。多次调用next()函数直至所有yield均运行完成后，会抛出StopIteration。\n",
    "\n",
    "就工作原理而言，生成器函数显然不同于一般的函数。本书对生成器的描述如下：\n",
    "\n",
    "生成器函数会创建一个生成器对象，包装生成器函数的定义体。把生成器传递给next()时，生成器函数会向前，执行函数定义体中下一个yield语句、返回产出的值并在函数定义体的当前位置停止。最终，函数的定义体返回时，外层的生成器对象会抛出StopIteration异常 —— 这一点与迭代器协议一致。\n",
    "\n",
    "上述描述有非常多的信息：\n",
    "1. 上述描述称返回的值为“产出的值”。从原理上来看，这一描述非常准确，因为生成器并不提前存储值然后适时返回这些值，而是在运行过程中生成这些值\n",
    "2. 上述对生成器的描述类似于断点调试，只不过使用next()运行生成器后会直接运行到下一个yield\n",
    "\n",
    "生成器显然可以作为迭代器来使用，下述例子展示了如何将生成器作为迭代器。不同于TestListIter，TestListIter2显然能够正常执行迭代器的功能。值得注意的是，使用iter()调用后会返回一个生成器而不是迭代器。"
   ]
  },
  {
   "cell_type": "code",
   "execution_count": 38,
   "metadata": {},
   "outputs": [
    {
     "name": "stdout",
     "output_type": "stream",
     "text": [
      "第一次迭代\n",
      "所有元素： [1, 2, 3, 4]\n",
      "iter(test_list)类型： <class 'generator'>\n",
      "1\n",
      "1\n",
      "1\n",
      "\n",
      "\n",
      "第二次迭代\n",
      "所有元素： [1, 2, 3, 4]\n",
      "1\n",
      "2\n",
      "3\n",
      "4\n"
     ]
    }
   ],
   "source": [
    "class TestListIter2:\n",
    "\n",
    "    def __init__(self, components):\n",
    "        self.components = list(components)\n",
    "    \n",
    "    def __iter__(self):\n",
    "        \"\"\"\n",
    "        返回一个生成器\n",
    "        \"\"\"\n",
    "        for component in self.components:\n",
    "            yield component\n",
    "    \n",
    "    def __repr__(self):\n",
    "        return str(self.components)\n",
    "\n",
    "test_list = TestListIter2([1, 2, 3, 4])\n",
    "print(\"第一次迭代\")\n",
    "print(\"所有元素：\", test_list)\n",
    "print(\"iter(test_list)类型：\", type(iter(test_list)))\n",
    "for i in range(3):\n",
    "    print(next(iter(test_list)))\n",
    "\n",
    "print(\"\\n\\n第二次迭代\")\n",
    "print(\"所有元素：\", test_list)\n",
    "for i in test_list:\n",
    "    print(i)"
   ]
  },
  {
   "cell_type": "markdown",
   "metadata": {},
   "source": [
    "### 生成器的“惰性”和生成器表达式\n",
    "\n",
    "生成器具有“惰性”，其通常在需要时才真正生成值并且返回。这一工作方式显然不同于从列表或者其他序列中读值 —— 通常需要实现准备好整个序列，然后按照特定的方式获取序列中的值。\n",
    "\n",
    "下述例子是生成器表达式和列表的对比。对于列表，首先会准备好整个序列，然后在for循环的时候逐个输出；生成器则是在for循环的时候才真正运行。"
   ]
  },
  {
   "cell_type": "code",
   "execution_count": 40,
   "metadata": {},
   "outputs": [
    {
     "name": "stdout",
     "output_type": "stream",
     "text": [
      "\n",
      "\n",
      "列表推导\n",
      "start\n",
      "continue\n",
      "end.\n",
      "<class 'list'> ['AAA', 'BBB']\n",
      "---> AAA\n",
      "---> BBB\n",
      "\n",
      "\n",
      "生成器表达式\n",
      "<class 'generator'> <generator object <genexpr> at 0x000001C749A41D48>\n",
      "start\n",
      "---> AAA\n",
      "continue\n",
      "---> BBB\n",
      "end.\n"
     ]
    }
   ],
   "source": [
    "def gen_ABC():\n",
    "    print(\"start\")\n",
    "    yield \"A\"\n",
    "    print(\"continue\")\n",
    "    yield \"B\"\n",
    "    print(\"end.\")\n",
    "\n",
    "print(\"\\n\\n列表推导\")\n",
    "res1 = [x*3 for x in gen_ABC()]\n",
    "print(type(res1), res1)\n",
    "for i in res1:\n",
    "    print(\"--->\", i)\n",
    "\n",
    "print(\"\\n\\n生成器表达式\")\n",
    "res2 = (x*3 for x in gen_ABC())\n",
    "print(type(res2), res2)\n",
    "for i in res2:\n",
    "    print(\"--->\", i)"
   ]
  },
  {
   "cell_type": "markdown",
   "metadata": {},
   "source": [
    "## 示例：斐波那契数列生成器\n",
    "\n",
    "本书给出了一个等差数列的例子，这里给出一个斐波那契数列的例子。下述构造的斐波那契数列生成器用于返回斐波那契数列的前n项，其签名为Fibonacci(n)，n用于指明输出多少项，若没有指明n则会无限输出。"
   ]
  },
  {
   "cell_type": "code",
   "execution_count": 23,
   "metadata": {},
   "outputs": [
    {
     "name": "stdout",
     "output_type": "stream",
     "text": [
      "[1, 1, 2, 3, 5, 8, 13, 21, 34, 55]\n",
      "<class 'generator'>\n",
      "[1, 1, 2, 3, 5, 8, 13, 21, 34, 55]\n",
      "\n",
      "\n",
      "斐波那契数列无限生成器:\n",
      "第1项为：1\n",
      "第2项为：1\n",
      "第3项为：2\n",
      "第4项为：3\n",
      "第5项为：5\n",
      "第6项为：8\n",
      "第7项为：13\n",
      "第8项为：21\n",
      "第9项为：34\n",
      "第10项为：55\n"
     ]
    }
   ],
   "source": [
    "class ClsFibonacci:\n",
    "\n",
    "    def __init__(self, n=None):\n",
    "        self.n = n\n",
    "\n",
    "    def __iter__(self):\n",
    "        _first = 0\n",
    "        _second = 1\n",
    "        index = 0\n",
    "        forever = self.n is None\n",
    "        while forever or index < self.n:\n",
    "            yield _second\n",
    "            index += 1\n",
    "\n",
    "            _temp = _second\n",
    "            _second += _first\n",
    "            _first = _temp\n",
    "\n",
    "\n",
    "def funcFibonacci(n=None):\n",
    "    _first = 0\n",
    "    _second = 1\n",
    "    index = 0\n",
    "    forever = n is None\n",
    "    while forever or index < n:\n",
    "        yield _second\n",
    "        index += 1\n",
    "\n",
    "        _temp = _second\n",
    "        _second += _first\n",
    "        _first = _temp\n",
    "            \n",
    "\n",
    "cls_fibonacci_generator = ClsFibonacci(10)\n",
    "from collections import abc\n",
    "print(list(cls_fibonacci_generator))\n",
    "\n",
    "func_fibonacci_generator = funcFibonacci(10)\n",
    "print(list(cls_fibonacci_generator))\n",
    "\n",
    "print(\"\\n\\n斐波那契数列无限生成器:\")\n",
    "infinity_fibonacci_generator = funcFibonacci()\n",
    "for i in range(1, 11):\n",
    "    print(\"第{}项为：{}\".format(i, next(infinity_fibonacci_generator)))"
   ]
  },
  {
   "cell_type": "markdown",
   "metadata": {},
   "source": [
    "## yield from\n",
    "\n",
    "yield from是Python3.3中新增的语法，能够更简短的描述生成器。字节码清晰描述了使用yield和yield from的不同，从使用上来说，yield from更像是一种封装。"
   ]
  },
  {
   "cell_type": "code",
   "execution_count": 17,
   "metadata": {},
   "outputs": [
    {
     "name": "stdout",
     "output_type": "stream",
     "text": [
      "[1, 2, 3, 4]\n",
      "  4           0 SETUP_LOOP              18 (to 20)\n",
      "              2 LOAD_FAST                0 (_list)\n",
      "              4 GET_ITER\n",
      "        >>    6 FOR_ITER                10 (to 18)\n",
      "              8 STORE_FAST               1 (i)\n",
      "\n",
      "  5          10 LOAD_FAST                1 (i)\n",
      "             12 YIELD_VALUE\n",
      "             14 POP_TOP\n",
      "             16 JUMP_ABSOLUTE            6\n",
      "        >>   18 POP_BLOCK\n",
      "        >>   20 LOAD_CONST               0 (None)\n",
      "             22 RETURN_VALUE\n",
      "None\n",
      "\n",
      "\n",
      " yield from:\n",
      "[1, 2, 3, 4]\n",
      "  8           0 LOAD_FAST                0 (_list)\n",
      "              2 GET_YIELD_FROM_ITER\n",
      "              4 LOAD_CONST               0 (None)\n",
      "              6 YIELD_FROM\n",
      "              8 POP_TOP\n",
      "             10 LOAD_CONST               0 (None)\n",
      "             12 RETURN_VALUE\n",
      "None\n"
     ]
    }
   ],
   "source": [
    "import dis\n",
    "\n",
    "def generator1(_list):\n",
    "    for i in _list:\n",
    "        yield i\n",
    "\n",
    "def generator2(_list):\n",
    "    yield from _list\n",
    "\n",
    "test_list = [1, 2, 3, 4]\n",
    "test1 = generator1(test_list)\n",
    "print(list(test1))\n",
    "print(dis.dis(generator1))\n",
    "\n",
    "print(\"\\n\\n yield from:\")\n",
    "test2 = generator2(test_list)\n",
    "print(list(test2))\n",
    "print(dis.dis(generator2))"
   ]
  },
  {
   "cell_type": "markdown",
   "metadata": {},
   "source": [
    "## iter函数的特殊用法\n",
    "\n",
    "iter()函数可以接收两个参数，第一个为可迭代对象，第二个为哨符。在迭代时，若返回了和哨符相等的元组则抛出StopIteration终止迭代。这一用法可以代替一些循环+if判断退出的应用场景。"
   ]
  },
  {
   "cell_type": "code",
   "execution_count": 13,
   "metadata": {},
   "outputs": [
    {
     "name": "stdout",
     "output_type": "stream",
     "text": [
      "<class 'callable_iterator'>\n",
      "4\n",
      "4\n"
     ]
    }
   ],
   "source": [
    "import random\n",
    "\n",
    "random.seed(0)\n",
    "\n",
    "def d6():\n",
    "    return random.randint(1, 6)\n",
    "\n",
    "d6_iter = iter(d6, 1)\n",
    "print(type(d6_iter))\n",
    "for roll in d6_iter:\n",
    "    print(roll)"
   ]
  },
  {
   "cell_type": "markdown",
   "metadata": {},
   "source": [
    "## 生成器和迭代器\n",
    "\n",
    "生成器和迭代器的异同\n",
    "\n",
    "1. 从接口上来说\n",
    "所有生成器都是迭代器，因为生成器必然会实现__iter__方法。所有的生成器对象均可以通过isinstance对abc.Iterator类型的检查\n",
    "2. 从实现方式上来说\n",
    "生成器在Python中有两种实现方法，其一是通过含有yield关键字的函数，其二是通过生成器表达式。无论通过哪种方式，得到的对象均是GeneratorType类型，并且均会实现符合迭代器协议的接口。因此生成器在Python中是迭代器，反过来，迭代器不一定是生成器 —— 只要通过经典的迭代器实现方式即可\n",
    "3. 从概念上来说\n",
    "从概念上来说，生成器和迭代器完全不同。迭代器用于遍历集合，其本质上是从数据源中读取元素，而不修改数据源。生成器则可以直接产出值。即便是基于一个集合，生成器也可以基于这个集合派生出集合外的元素。"
   ]
  },
  {
   "cell_type": "markdown",
   "metadata": {},
   "source": [
    "## 总结\n",
    "\n",
    "1. 迭代器用于从集合中取出元素；生成器用于“凭空”生成元素\n",
    "2. Python从语义上集成了迭代器模式因此对迭代的支持非常好\n",
    "3. 只要实现了__iter__方法或者__getitem__方法，该类的实例就是可迭代对象\n",
    "4. 对于一个迭代器，其要求实现__next__方法以及__iter__方法\n",
    "5. 可迭代对象不是迭代器（但是迭代器必然是可迭代对象），当一个存储数据的对象是可迭代对象同时也是迭代器时可能发生严重错误\n",
    "6. Python使用yield关键字定义生成器函数，当一个函数中存在yield关键字时该函数就是一个生成器函数\n",
    "7. 生成器可以作为迭代器使用，但是不同于迭代器从已知的序列中逐个输出元素，生成器在程序运行过程中“产出”元素\n",
    "8. 生成器表达式不同于列表推导，通过生成器表达式得到的生成器在迭代时才会真正运行相应的代码。列表推导则在迭代前就返回了包含所有元素的完整序列\n",
    "9. Python内置了大量生成器，这些生成器可以满足一些应用上的需求\n",
    "10. iter()函数不仅可以接收一个参数，其也可以接受两个参数。当输入一个参数时，iter()函数返回一个迭代器。以iter(func, sentinel)形式调用时返回一个callable_iterator对象，这种形式能够使用任何函数构造迭代器。\n",
    "11. 考虑到一些大型数据集并不能事先全部放入内存，仅在需要时才产出元素的生成器非常适合处理这些数据集"
   ]
  }
 ],
 "metadata": {
  "interpreter": {
   "hash": "c81b77944e1b7825fbfc169e02da53e798f21a1c636c4b38940352ba85692786"
  },
  "kernelspec": {
   "display_name": "Python 3.7.12 ('flyai_pytorch1_5')",
   "language": "python",
   "name": "python3"
  },
  "language_info": {
   "codemirror_mode": {
    "name": "ipython",
    "version": 3
   },
   "file_extension": ".py",
   "mimetype": "text/x-python",
   "name": "python",
   "nbconvert_exporter": "python",
   "pygments_lexer": "ipython3",
   "version": "3.7.12"
  },
  "orig_nbformat": 4
 },
 "nbformat": 4,
 "nbformat_minor": 2
}
