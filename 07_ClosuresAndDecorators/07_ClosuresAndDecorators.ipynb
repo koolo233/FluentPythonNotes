{
 "cells": [
  {
   "cell_type": "markdown",
   "metadata": {},
   "source": [
    "# 函数装饰器和闭包\n",
    "\n",
    "## 装饰器基础概念\n",
    "\n",
    "装饰器是可调用的对象，其要求传入另一个函数。装饰器可能会处理被装饰的函数或者将被装饰的函数替换为另一个函数。\n",
    "\n",
    "装饰器从行为上来说和一般的将函数作为参数的可调用对象没有本质上的区别，在某些情况下使用装饰器可能更方便。但是装饰器具有独特优势：在加载模块时立即执行。\n",
    "\n",
    "在加载时立即执行是装饰器的一大优势，这样就能实现在运行时改变程序的行为或者改变内部状态。registration.py例子展示了装饰器在导入模块时立即执行这一特性。\n",
    "\n",
    "registration.py中的装饰器并没有改变被装饰的函数的行为，但是该装饰器将被装饰的函数计入一个list，则在有些应用场景中是有好处的，例如在“策略”模式中自动获取所有可选择的具体模式。"
   ]
  },
  {
   "cell_type": "code",
   "execution_count": 1,
   "metadata": {},
   "outputs": [
    {
     "name": "stdout",
     "output_type": "stream",
     "text": [
      "running inner()\n"
     ]
    },
    {
     "data": {
      "text/plain": [
       "<function __main__.deco.<locals>.inner()>"
      ]
     },
     "execution_count": 1,
     "metadata": {},
     "output_type": "execute_result"
    }
   ],
   "source": [
    "def deco(func):\n",
    "\n",
    "    def inner():\n",
    "        print(\"running inner()\")\n",
    "    return inner\n",
    "\n",
    "@deco\n",
    "def target():\n",
    "    print(\"running target()\")\n",
    "\n",
    "target()\n",
    "target"
   ]
  },
  {
   "cell_type": "code",
   "execution_count": 10,
   "metadata": {},
   "outputs": [
    {
     "name": "stdout",
     "output_type": "stream",
     "text": [
      "running register<function f1 at 0x0000025031700708>\n",
      "running register<function f2 at 0x00000250317001F8>\n",
      "running main()\n",
      "registry -> [<function f1 at 0x0000025031700708>, <function f2 at 0x00000250317001F8>]\n",
      "running f1()\n",
      "running f2()\n",
      "running f3()\n",
      "\n",
      "[<function f1 at 0x00000200059719D8>, <function f2 at 0x0000020005971B88>]\n"
     ]
    }
   ],
   "source": [
    "import os\n",
    "\n",
    "print(os.popen(\"python ./registration.py\").read())\n",
    "\n",
    "import registration\n",
    "\n",
    "print(registration.registry)"
   ]
  },
  {
   "cell_type": "markdown",
   "metadata": {},
   "source": [
    "## Python中的变量作用域\n",
    "\n",
    "装饰器的使用有时候涉及到闭包的概念，而闭包的概念与Python中变量作用域息息相关\n",
    "\n",
    "下述展示的两个函数f1和f2，其中f1使用了未声明的变量b，毫无疑问会报错；而f2同样也会报错，并且是在print(b)位置报错。从字节码可以分析上述两个函数报错的原因：\n",
    "\n",
    "对于f1，字节码显示f1执行了如下操作：\n",
    "1. 加载全局名称print\n",
    "2. 加载局部变量a(字节码：LOAD_FAST)\n",
    "3. 调用函数，执行print\n",
    "4. 删除栈顶项\n",
    "5. 加载全局名称print\n",
    "6. 加载全局变量b(字节码：LOAD_GLOBAL)\n",
    "7. 调用函数，执行print\n",
    "8. 删除栈顶项\n",
    "\n",
    "对于f2，字节码显示f2执行了如下操作：\n",
    "1. 加载全局名称print\n",
    "2. 加载局部变量a(字节码：LOAD_FAST)\n",
    "3. 调用函数，执行print\n",
    "4. 删除栈顶项\n",
    "5. 加载全局名称print\n",
    "6. 加载局部变量b(字节码：LOAD_FAST)\n",
    "7. 调用函数，执行print\n",
    "8. 删除栈顶项\n",
    "\n",
    "可以看到f1和f2唯一不同的是对变量b的加载。f1由于没有在函数中声明变量b，因此主动使用LOAD_GLOBAL尝试从全局中加载b；f2则将变量b判断为局部变量，并且使用LOAD_FAST尝试从本地环境中加载b。\n",
    "\n",
    "f1和f2唯一的不同是是否有赋值语句。f2对变量b有赋值，并且没有global声明，因此变量b在f2中被自动判断为局部变量，并尝试在print(b)中从本地环境中获取变量b的值。\n",
    "\n",
    "若对更多的变量类型进行测试会发现：一些类型在函数定义体中进行赋值后会尝试使用LOAD_FAST调用该变量，而另一些类型在函数定义提中进行赋值后依然会尝试使用LOAD_GLOBAL调用该变量。就测试结果来说，若是不可变类型（tuple、str等）使用赋值语句后会尝试从本地环境中获取该变量的值，若是可变类型（list、array、dict、set）使用赋值语句后依然会尝试从全局环境中获取该变量的值。对于不可变类型，若想使用全局变量，则可以使用global声明"
   ]
  },
  {
   "cell_type": "code",
   "execution_count": 11,
   "metadata": {},
   "outputs": [
    {
     "name": "stdout",
     "output_type": "stream",
     "text": [
      "  4           0 LOAD_GLOBAL              0 (print)\n",
      "              2 LOAD_FAST                0 (a)\n",
      "              4 CALL_FUNCTION            1\n",
      "              6 POP_TOP\n",
      "\n",
      "  5           8 LOAD_GLOBAL              0 (print)\n",
      "             10 LOAD_GLOBAL              1 (b)\n",
      "             12 CALL_FUNCTION            1\n",
      "             14 POP_TOP\n",
      "             16 LOAD_CONST               0 (None)\n",
      "             18 RETURN_VALUE\n",
      " 11           0 LOAD_GLOBAL              0 (print)\n",
      "              2 LOAD_FAST                0 (a)\n",
      "              4 CALL_FUNCTION            1\n",
      "              6 POP_TOP\n",
      "\n",
      " 12           8 LOAD_GLOBAL              0 (print)\n",
      "             10 LOAD_FAST                1 (b)\n",
      "             12 CALL_FUNCTION            1\n",
      "             14 POP_TOP\n",
      "\n",
      " 13          16 LOAD_CONST               1 (9)\n",
      "             18 STORE_FAST               1 (b)\n",
      "             20 LOAD_CONST               0 (None)\n",
      "             22 RETURN_VALUE\n"
     ]
    }
   ],
   "source": [
    "from dis import dis\n",
    "\n",
    "def f1(a):\n",
    "    print(a)\n",
    "    print(b)\n",
    "\n",
    "dis(f1)\n",
    "\n",
    "b=1\n",
    "def f2(a):\n",
    "    print(a)\n",
    "    print(b)\n",
    "    b=9\n",
    "\n",
    "dis(f2)"
   ]
  },
  {
   "cell_type": "markdown",
   "metadata": {},
   "source": [
    "## 闭包（Closure）\n",
    "\n",
    "闭包和自由变量（free variable）息息相关。\n",
    "\n",
    "Python允许函数中嵌套函数，并且内层的函数能够访问外层函数的局部变量，但是外层函数无法访问内层函数的局部变量。这种结构实际上形成了闭包，当外层函数对应的资源被释放后，内层函数依然能够访问到外层函数的局部变量，即这些局部变量以某种形式留存下来。\n",
    "\n",
    "下述例子中，series是make_averager的局部变量，该变量用于保存输入的价格；averager则是嵌套于make_averager中的函数，其获取输入的价格并且将该价格存入series然后计算均值。\n",
    "\n",
    "这一例子中，make_averager会返回其内嵌的函数averager，正常来说，make_averager在返回的那一刻，其占用的资源会被释放，series作为该函数的局部变量也应当被释放。但是从运行结果来看，series不仅没有被释放，而且能正常记录输入的数据。\n",
    "\n",
    "上述功能能正常执行实际上依赖的是自由变量。从反编译的字节码也可以看出，不同于上述例子中的LOAD_GLOBAL和LOAD_FAST，这里加载series时使用的是LOAD_DEREF。实际上，series围在本地作用域中绑定，而是以自由变量的形式存在，其实际上绑定在__closure__属性中，并且可以从__code__.co_freevars中查询到这些自由变量的名称。\n",
    "\n",
    "闭包实际上实现了在一个局部变量的定义作用域不再可用时，其依然可以以自由变量的形式存在于闭包中。\n",
    "\n",
    "\n",
    "值得注意的是，这里实际上也存在类似于上一个例子中全局变量与局部变量的问题。在闭包中，可变类型的变量无论是读取还是赋值均采用LOAD_DEREF加载这些变量；而不可变类型对应的变量若使用了赋值语句则会直接变为尝试使用LOAD_FAST加载这些变量，这在一些应用中会导致变量没有声明的错误。同样的，类似于global声明使得程序始终使用LOAD_GLOBAL加载变量，nonlocal声明则可以使得程序始终使用LOAD_DEREF加载变量。"
   ]
  },
  {
   "cell_type": "code",
   "execution_count": 17,
   "metadata": {},
   "outputs": [
    {
     "name": "stdout",
     "output_type": "stream",
     "text": [
      "10.0\n",
      "10.5\n",
      "11.0\n",
      "  7           0 LOAD_DEREF               0 (series)\n",
      "              2 LOAD_METHOD              0 (append)\n",
      "              4 LOAD_FAST                0 (new_value)\n",
      "              6 CALL_METHOD              1\n",
      "              8 POP_TOP\n",
      "\n",
      "  8          10 LOAD_GLOBAL              1 (sum)\n",
      "             12 LOAD_DEREF               0 (series)\n",
      "             14 CALL_FUNCTION            1\n",
      "             16 LOAD_GLOBAL              2 (len)\n",
      "             18 LOAD_DEREF               0 (series)\n",
      "             20 CALL_FUNCTION            1\n",
      "             22 BINARY_TRUE_DIVIDE\n",
      "             24 RETURN_VALUE\n"
     ]
    }
   ],
   "source": [
    "def make_averager():\n",
    "\n",
    "    series = list()\n",
    "\n",
    "    def averager(new_value):\n",
    "\n",
    "        series.append(new_value)\n",
    "        return sum(series) / len(series)\n",
    "    \n",
    "    return averager\n",
    "\n",
    "avg = make_averager()\n",
    "print(avg(10))\n",
    "print(avg(11))\n",
    "print(avg(12))\n",
    "\n",
    "dis(avg)\n"
   ]
  },
  {
   "cell_type": "code",
   "execution_count": 18,
   "metadata": {},
   "outputs": [
    {
     "name": "stdout",
     "output_type": "stream",
     "text": [
      "  8           0 LOAD_FAST                1 (total)\n",
      "              2 LOAD_FAST                0 (new_value)\n",
      "              4 INPLACE_ADD\n",
      "              6 STORE_FAST               1 (total)\n",
      "\n",
      "  9           8 LOAD_FAST                2 (count)\n",
      "             10 LOAD_CONST               1 (1)\n",
      "             12 INPLACE_ADD\n",
      "             14 STORE_FAST               2 (count)\n",
      "\n",
      " 10          16 LOAD_FAST                1 (total)\n",
      "             18 LOAD_FAST                2 (count)\n",
      "             20 BINARY_TRUE_DIVIDE\n",
      "             22 RETURN_VALUE\n"
     ]
    }
   ],
   "source": [
    "def make_averager_2():\n",
    "\n",
    "    total = 0\n",
    "    count = 0\n",
    "\n",
    "    def averager(new_value):\n",
    "\n",
    "        total += new_value\n",
    "        count += 1\n",
    "        return total / count\n",
    "    \n",
    "    return averager\n",
    "\n",
    "avg_2 = make_averager_2()\n",
    "dis(avg_2)"
   ]
  },
  {
   "cell_type": "markdown",
   "metadata": {},
   "source": [
    "## 实现装饰器\n",
    "\n",
    "一般意义上的装饰器通常将被装饰的函数替换为另一个函数，二者接受相同的参数，并且替换后的函数不影响被装饰的函数的功能（返回值相同），在此基础上，替换后的函数会进行额外的操作。\n",
    "\n",
    "Python函数装饰器的特性符合《设计模式：可复用面向对象软件的基础》中对“装饰器”模式的描述：动态地给一个对象添加一些额外的职能。但是不能简单的讲Python函数装饰器视为对“装饰器”模式的一个实现——其细节上仍有相当大的区别。\n",
    "\n",
    "下述例子实现了一个简单的计时函数，可以看到clock函数的内嵌函数clocked接收任何位置参数以及关键字参数，并且将这些参数传递原封不动的给真正的功能函数func，此外clocked还会进行计时并且打印相关信息。这里需要注意的是，对于clocked来说，输入的func函数是一个自由变量。\n",
    "\n",
    "同时，可以注意到，下述例子中test_func的__name__属性为clocked，这佐证了上述描述的Python函数装饰器特性：被装饰的函数会被另一个函数替换掉。若希望被装饰后的函数依然能够保有原有的__name__和__doc__，一个简单的做法就是利用functools.wraps装饰器装饰clocked函数。functools.wraps能够保持被装饰的函数的名称不发生变化。"
   ]
  },
  {
   "cell_type": "code",
   "execution_count": 14,
   "metadata": {},
   "outputs": [
    {
     "name": "stdout",
     "output_type": "stream",
     "text": [
      "test_func函数输出：a=1\n",
      "[0.00026250s] test_func() -> None\n",
      "test_func的__name__属性： test_func\n",
      "  8           0 LOAD_GLOBAL              0 (time)\n",
      "              2 LOAD_METHOD              1 (perf_counter)\n",
      "              4 CALL_METHOD              0\n",
      "              6 STORE_FAST               2 (t0)\n",
      "\n",
      "  9           8 LOAD_DEREF               0 (func)\n",
      "             10 LOAD_FAST                0 (args)\n",
      "             12 LOAD_FAST                1 (kwargs)\n",
      "             14 CALL_FUNCTION_EX         1\n",
      "             16 STORE_FAST               3 (result)\n",
      "\n",
      " 10          18 LOAD_GLOBAL              0 (time)\n",
      "             20 LOAD_METHOD              1 (perf_counter)\n",
      "             22 CALL_METHOD              0\n",
      "             24 LOAD_FAST                2 (t0)\n",
      "             26 BINARY_SUBTRACT\n",
      "             28 STORE_FAST               4 (elapsed)\n",
      "\n",
      " 11          30 LOAD_DEREF               0 (func)\n",
      "             32 LOAD_ATTR                2 (__name__)\n",
      "             34 STORE_FAST               5 (name_)\n",
      "\n",
      " 12          36 LOAD_CONST               1 (',')\n",
      "             38 LOAD_METHOD              3 (join)\n",
      "             40 LOAD_CONST               2 (<code object <genexpr> at 0x000001FB12045AE0, file \"C:\\Users\\Koolo\\AppData\\Local\\Temp/ipykernel_49888/3532818412.py\", line 12>)\n",
      "             42 LOAD_CONST               3 ('clock.<locals>.clocked.<locals>.<genexpr>')\n",
      "             44 MAKE_FUNCTION            0\n",
      "             46 LOAD_FAST                0 (args)\n",
      "             48 GET_ITER\n",
      "             50 CALL_FUNCTION            1\n",
      "             52 CALL_METHOD              1\n",
      "             54 STORE_FAST               6 (arg_str)\n",
      "\n",
      " 13          56 LOAD_GLOBAL              4 (print)\n",
      "             58 LOAD_CONST               4 ('[%0.8fs] %s(%s) -> %r')\n",
      "             60 LOAD_FAST                4 (elapsed)\n",
      "             62 LOAD_FAST                5 (name_)\n",
      "             64 LOAD_FAST                6 (arg_str)\n",
      "             66 LOAD_FAST                3 (result)\n",
      "             68 BUILD_TUPLE              4\n",
      "             70 BINARY_MODULO\n",
      "             72 CALL_FUNCTION            1\n",
      "             74 POP_TOP\n",
      "\n",
      " 14          76 LOAD_FAST                3 (result)\n",
      "             78 RETURN_VALUE\n",
      "\n",
      "Disassembly of <code object <genexpr> at 0x000001FB12045AE0, file \"C:\\Users\\Koolo\\AppData\\Local\\Temp/ipykernel_49888/3532818412.py\", line 12>:\n",
      " 12           0 LOAD_FAST                0 (.0)\n",
      "        >>    2 FOR_ITER                14 (to 18)\n",
      "              4 STORE_FAST               1 (arg)\n",
      "              6 LOAD_GLOBAL              0 (repr)\n",
      "              8 LOAD_FAST                1 (arg)\n",
      "             10 CALL_FUNCTION            1\n",
      "             12 YIELD_VALUE\n",
      "             14 POP_TOP\n",
      "             16 JUMP_ABSOLUTE            2\n",
      "        >>   18 LOAD_CONST               0 (None)\n",
      "             20 RETURN_VALUE\n"
     ]
    }
   ],
   "source": [
    "import time\n",
    "from dis import dis\n",
    "import functools\n",
    "\n",
    "def clock(func):\n",
    "    @functools.wraps(func)\n",
    "    def clocked(*args, **kwargs):\n",
    "        t0 = time.perf_counter()\n",
    "        result = func(*args, **kwargs)\n",
    "        elapsed = time.perf_counter() - t0\n",
    "        name_ = func.__name__\n",
    "        arg_str = \",\".join(repr(arg) for arg in args)\n",
    "        print(\"[%0.8fs] %s(%s) -> %r\" % (elapsed, name_, arg_str, result))\n",
    "        return result\n",
    "    return clocked\n",
    "\n",
    "\n",
    "@clock\n",
    "def test_func(a=1):\n",
    "    print(\"test_func函数输出：a={}\".format(a))\n",
    "\n",
    "test_func()\n",
    "print(\"test_func的__name__属性：\", test_func.__name__)\n",
    "dis(test_func)"
   ]
  },
  {
   "cell_type": "markdown",
   "metadata": {},
   "source": [
    "## 标准库中的装饰器"
   ]
  },
  {
   "cell_type": "markdown",
   "metadata": {},
   "source": [
    "## 参数化装饰器"
   ]
  }
 ],
 "metadata": {
  "interpreter": {
   "hash": "a2ae398f54937c2e9a792e0245dde3e7f00c22003a4409849c6155f07537f255"
  },
  "kernelspec": {
   "display_name": "Python 3.8.0 ('DIP')",
   "language": "python",
   "name": "python3"
  },
  "language_info": {
   "codemirror_mode": {
    "name": "ipython",
    "version": 3
   },
   "file_extension": ".py",
   "mimetype": "text/x-python",
   "name": "python",
   "nbconvert_exporter": "python",
   "pygments_lexer": "ipython3",
   "version": "3.7.12"
  },
  "orig_nbformat": 4
 },
 "nbformat": 4,
 "nbformat_minor": 2
}
