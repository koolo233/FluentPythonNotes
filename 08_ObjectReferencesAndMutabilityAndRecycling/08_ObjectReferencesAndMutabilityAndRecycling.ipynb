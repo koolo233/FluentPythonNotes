{
 "cells": [
  {
   "cell_type": "markdown",
   "metadata": {},
   "source": [
    "# 对象引用、可变性和垃圾回收\n",
    "\n",
    "## 引用式变量\n",
    "\n",
    "在Python中，变量应当被理解为某一个特定内容的“标注”，而不是盛放这一内容的“容器”。即应当是先有“内容”，然后有变量；而不是先有变量然后有“内容”。\n",
    "\n",
    "下述例子是对上述观点的佐证。下述例子首先定义了变量a，然后令b=a。若按照变量是“容器”的观点，上述b=a应当是将a中的数据拷贝到b中；若按照变量是“标注”的观点，上述b=a应当是将“标注”的身份赋予b，此时b和a是同一个内容的“标注”。\n",
    "\n",
    "测试结果显示当改变变量a对应的list时，变量b对应的list也会同时改变。即变量a和变量b指向了同一个“内容”。虽然a、b的标识不同，但是其“内容”是共享的。"
   ]
  },
  {
   "cell_type": "code",
   "execution_count": 5,
   "metadata": {},
   "outputs": [
    {
     "name": "stdout",
     "output_type": "stream",
     "text": [
      "[1, 2, 3, 4]\n",
      "2110059546184 2110059546184\n",
      "140718119729168 2110059546184\n"
     ]
    }
   ],
   "source": [
    "a = [1, 2, 3]\n",
    "b = a\n",
    "a.append(4)\n",
    "print(b)\n",
    "print(id(b), id(a))\n",
    "b = 1\n",
    "print(id(b), id(a))"
   ]
  },
  {
   "cell_type": "markdown",
   "metadata": {},
   "source": [
    "## 标识、相等性和别名\n",
    "\n",
    "符号\"==\"以及关键字\"is\"均可用于判断两个变量是否相等。前者判断的是两个变量的值是否相等，后者则是判断两个变量的标识是否相同(id()函数返回的整数)。对于指向同一内存地址的不同变量，这些变量的值以及标识均相同；对于指向不同内存地址但是值相同的不同变量，这些变量的值相同，但是标识不同。\n",
    "\n",
    "对于Python中的变量，每一个变量均有标识、类型和值。对象创建后，其标识在整个生命周期中不会改变。CPython中，id()函数返回对象的内存地址，其他Python解释器可能会返回其他含义的值。\n",
    "\n",
    "### 元组的相对不可变性\n",
    "\n",
    "名义上，元组是不可变类型，其中的元素不可改变。但是值得注意的是，对于存储在元组中的可变对象，元组中存储的实际上是可变对象的引用 —— 只要引用不发生改变，元组就认为这一元素没有改变，**元组并不会检查这一可变对象内的数据是否发生改变**。\n",
    "\n",
    "将列表存入元组就是上述观点的一个例子。对于列表来说，列表是可变对象，其中的值可以进行删改而不影响其在内存中的地址；对于元组来说，元组存储的是列表的引用，只要引用不发生改变，对列表中元素的删增也不会报错。\n",
    "\n",
    "下述例子创建了一个元组，其包含三个元素 —— 整数、字典和列表，并且利用变量a、b、c传入元组。依次修改上述三个变量后，观察结果。\n",
    "\n",
    "* 对变量a的修改不会导致报错，并且这一修改不会影响元组中对应的值\n",
    "* 对变量b的修改不会导致报错，并且这一修改会影响元组中对应的值\n",
    "* 对变量c的修改不会导致报错，并且这一修改会影响元组中对应的值\n",
    "\n",
    "上述结果实际上说明了几个问题：\n",
    "\n",
    "1. 变量a验证了上述引用式变量的观点。整数是不可变数据，因此当对a进行赋值时，实际上是变量a变为整数“2”的标签。元组中仍保留的是整数“1”\n",
    "2. 字典和列表是可变类型，因此当利用变量b或者c改变其元素时，其对应的数据会发生变化并且会反映到元组中对应的数据。\n",
    "\n",
    "若直接对元组中的元素尝试使用索引获取并且进行赋值，不可变类型的元素尝试赋值会直接报错，可变类型的元素则可以使用各种原位的操作对其内容进行修改"
   ]
  },
  {
   "cell_type": "code",
   "execution_count": 4,
   "metadata": {},
   "outputs": [
    {
     "name": "stdout",
     "output_type": "stream",
     "text": [
      "(1, {'2': 2}, [3, 4, 5])\n",
      "(1, {'2': 3}, [3, 4, 5, 6])\n",
      "(1, {'2': 3, '3': 3}, [3, 4, 5, 6, 6])\n"
     ]
    },
    {
     "ename": "TypeError",
     "evalue": "'tuple' object does not support item assignment",
     "output_type": "error",
     "traceback": [
      "\u001b[1;31m---------------------------------------------------------------------------\u001b[0m",
      "\u001b[1;31mTypeError\u001b[0m                                 Traceback (most recent call last)",
      "\u001b[1;32m~\\AppData\\Local\\Temp/ipykernel_30288/3240282492.py\u001b[0m in \u001b[0;36m<module>\u001b[1;34m\u001b[0m\n\u001b[0;32m     14\u001b[0m \u001b[0mt1\u001b[0m\u001b[1;33m[\u001b[0m\u001b[1;36m1\u001b[0m\u001b[1;33m]\u001b[0m\u001b[1;33m[\u001b[0m\u001b[1;34m\"3\"\u001b[0m\u001b[1;33m]\u001b[0m \u001b[1;33m=\u001b[0m \u001b[1;36m3\u001b[0m\u001b[1;33m\u001b[0m\u001b[1;33m\u001b[0m\u001b[0m\n\u001b[0;32m     15\u001b[0m \u001b[0mprint\u001b[0m\u001b[1;33m(\u001b[0m\u001b[0mt1\u001b[0m\u001b[1;33m)\u001b[0m\u001b[1;33m\u001b[0m\u001b[1;33m\u001b[0m\u001b[0m\n\u001b[1;32m---> 16\u001b[1;33m \u001b[0mt1\u001b[0m\u001b[1;33m[\u001b[0m\u001b[1;36m0\u001b[0m\u001b[1;33m]\u001b[0m \u001b[1;33m=\u001b[0m \u001b[1;36m0\u001b[0m\u001b[1;33m\u001b[0m\u001b[1;33m\u001b[0m\u001b[0m\n\u001b[0m",
      "\u001b[1;31mTypeError\u001b[0m: 'tuple' object does not support item assignment"
     ]
    }
   ],
   "source": [
    "a = 1\n",
    "b = {\"2\": 2}\n",
    "c = [3, 4, 5]\n",
    "t1 = (a, b, c)\n",
    "print(t1)\n",
    "\n",
    "a = 2\n",
    "b[\"2\"] = 3\n",
    "c.append(6)\n",
    "print(t1)\n",
    "\n",
    "t1[2].append(7)\n",
    "t1[2][-1] = 6\n",
    "t1[1][\"3\"] = 3\n",
    "print(t1)\n",
    "t1[0] = 0"
   ]
  },
  {
   "cell_type": "markdown",
   "metadata": {},
   "source": [
    "## 浅拷贝与深拷贝\n",
    "\n",
    "拷贝对象是常用操作，但是拷贝又是一个非常容易出错的操作。拷贝有如下几种可能：\n",
    "* 拷贝前后两个变量指向同一个数据\n",
    "* 浅拷贝：仅拷贝了最外层的容器。若该数据包含内部对象，则拷贝后的内部对象是原对象的引用\n",
    "* 深拷贝：创建了所有元素的副本"
   ]
  },
  {
   "cell_type": "markdown",
   "metadata": {},
   "source": [
    "### 浅拷贝\n",
    "\n",
    "Python中的构造方法是浅拷贝，这些操作仅拷贝了最外层的容器。若该数据包含内部对象，这些内部对象是共用的。若在拷贝后改变这些对象（赋值或是添加元素等），不可变类型的元素将会创建新对象。\n",
    "\n",
    "下述例子准确描述了上述分析。对于通过构造方法复制得到的l2，若改变l2中的不可变类型元素则会创建一个新对象并且不会影响l1中对应位置的元素，若改变l2中可变类型元素则会同时改变l1中对应位置的元素。"
   ]
  },
  {
   "cell_type": "code",
   "execution_count": 18,
   "metadata": {},
   "outputs": [
    {
     "name": "stdout",
     "output_type": "stream",
     "text": [
      "第一个元素的id()\n",
      " 140717932886096 140717932886096\n",
      "第二个元素的id()\n",
      " 1726277473928 1726277473928\n",
      "第三个元素的id()\n",
      " 1726277414408 1726277414408\n",
      "\n",
      "改变l2中的第一个元素\n",
      "l1: [3, [55, 44], (7, 8, 9)]\n",
      "l2: [0, [55, 44], (7, 8, 9)]\n",
      "改变后第一个元素的id()\n",
      " 140717932886096 140717932886000\n",
      "\n",
      "改变l2中的第二个元素\n",
      "l1: [3, [55, 44, 66], (7, 8, 9)]\n",
      "l2: [0, [55, 44, 66], (7, 8, 9)]\n",
      "改变后第二个元素的id()\n",
      " 1726277473928 1726277473928\n",
      "[3, [55, 44, 66], (7, 8, 9)]\n",
      "\n",
      "改变l2中的第三个元素\n",
      "l1: [3, [55, 44, 66], (7, 8, 9)]\n",
      "l2: [0, [55, 44, 66], (7, 8, 9, 10, 11)]\n",
      "改变后第三个元素的id()\n",
      " 1726277414408 1726288276360\n"
     ]
    }
   ],
   "source": [
    "# 浅拷贝\n",
    "l1 = [3, [55, 44], (7, 8, 9)]\n",
    "\n",
    "l2 = list(l1)\n",
    "print(\"第一个元素的id()\\n\", id(l1[0]), id(l2[0]))\n",
    "print(\"第二个元素的id()\\n\", id(l1[1]), id(l2[1]))\n",
    "print(\"第三个元素的id()\\n\", id(l1[2]), id(l2[2]))\n",
    "\n",
    "# 改变l2中的第一个元素\n",
    "# 由于第一个元素是不可变类型\n",
    "# 改变后l2[0]指向其他内存地址\n",
    "# 此时l2[0]和l1[0]指向不同的内存地址\n",
    "l2[0] = 0\n",
    "print(\"\\n改变l2中的第一个元素\")\n",
    "print(\"l1:\", l1)\n",
    "print(\"l2:\", l2)\n",
    "print(\"改变后第一个元素的id()\\n\", id(l1[0]), id(l2[0]))\n",
    "\n",
    "# 改变l2中的第二个元素\n",
    "# 由于第二个元素是可变类型\n",
    "# 改变后l2[1]指向的内存地址不会改变\n",
    "# 此时l2[1]和l1[1]指向相同的内存地址\n",
    "l2[1].append(66)\n",
    "print(\"\\n改变l2中的第二个元素\")\n",
    "print(\"l1:\", l1)\n",
    "print(\"l2:\", l2)\n",
    "print(\"改变后第二个元素的id()\\n\", id(l1[1]), id(l2[1]))\n",
    "\n",
    "# 改变l2中的第三个元素\n",
    "# 由于第三个元素是不可变类型\n",
    "# 改变后l2[2]指向的内存地址会改变\n",
    "# 此时l2[2]和l1[2]指向不同的内存地址\n",
    "l2[2] += (10, 11)\n",
    "print(l1)\n",
    "print(\"\\n改变l2中的第三个元素\")\n",
    "print(\"l1:\", l1)\n",
    "print(\"l2:\", l2)\n",
    "print(\"改变后第三个元素的id()\\n\", id(l1[2]), id(l2[2]))"
   ]
  },
  {
   "cell_type": "markdown",
   "metadata": {},
   "source": [
    "### 深拷贝\n",
    "\n",
    "copy库提供的deepcopy()函数能够进行深拷贝，copy()函数则能够进行浅拷贝。\n",
    "\n",
    "此外，numpy中可以使用.copy()直接执行深拷贝。值得注意的是，numpy使用copy()深拷贝后，若对其元素尝试使用id()函数获取内存地址会发现拷贝前后两个变量同一位置的元素会返回相同的id值，但是确实是完成了深拷贝（对一个变量对应的数据进行修改不会影响另一个变量对应的数据）"
   ]
  },
  {
   "cell_type": "code",
   "execution_count": 34,
   "metadata": {},
   "outputs": [
    {
     "name": "stdout",
     "output_type": "stream",
     "text": [
      "[[0 0]\n",
      " [0 0]]\n",
      "[[1 1]\n",
      " [0 0]]\n",
      "1726311337584 1726311337584 1726311226800\n",
      "1726311252016 1726311252016\n"
     ]
    }
   ],
   "source": [
    "import numpy as np\n",
    "\n",
    "l1 = np.zeros((2, 2), dtype=np.int32)\n",
    "l2 = l1\n",
    "l3 = l1.copy()\n",
    "\n",
    "l3[0] = [1, 1]\n",
    "print(l1)\n",
    "print(l3)\n",
    "\n",
    "print(id(l1), id(l2), id(l3))\n",
    "print(id(l3[0]), id(l1[0]))"
   ]
  },
  {
   "cell_type": "markdown",
   "metadata": {},
   "source": [
    "## 函数传参\n",
    "\n",
    "Python使用的函数传参方式介于值传递和引用传递之间，本书使用的术语是：共享传递(call by sharing)，即Python传递的实际上是实参的引用。\n",
    "\n",
    "对于传入的不可变对象，若在函数内对这一对象的形参进行了赋值操作，则仅有形参中的值会改变，而不会改变实参中的值。对于传入的可变类型对象，若在函数内对这一对象的形参进行了原位操作，则形参和实参中的值均会改变。"
   ]
  },
  {
   "cell_type": "code",
   "execution_count": 41,
   "metadata": {},
   "outputs": [
    {
     "name": "stdout",
     "output_type": "stream",
     "text": [
      "不可变类型\n",
      "id(x_1):  140717932886032\n",
      "id(x_2):  140717932886064\n",
      "运算前id\n",
      "id(a):  140717932886032\n",
      "id(b):  140717932886064\n",
      "运算后id\n",
      "id(a):  140717932886096\n",
      "id(b):  140717932886064\n",
      "x_1:  1\n",
      "x_2:  2\n",
      "\n",
      "可变类型\n",
      "id(x_1):  1726277481224\n",
      "id(x_2):  1726311505672\n",
      "运算前id\n",
      "id(a):  1726277481224\n",
      "id(b):  1726311505672\n",
      "运算后id\n",
      "id(a):  1726277481224\n",
      "id(b):  1726311505672\n",
      "x_1:  [1, 2, 3, 4]\n",
      "x_2:  [3, 4]\n"
     ]
    }
   ],
   "source": [
    "def f(a, b):\n",
    "    print(\"运算前id\")\n",
    "    print(\"id(a): \", id(a))\n",
    "    print(\"id(b): \", id(b))\n",
    "    a += b\n",
    "    print(\"运算后id\")\n",
    "    print(\"id(a): \", id(a))\n",
    "    print(\"id(b): \", id(b))\n",
    "\n",
    "\n",
    "# ------------ 不可变类型 ------------\n",
    "print(\"不可变类型\")\n",
    "x_1 = 1\n",
    "x_2 = 2\n",
    "print(\"id(x_1): \", id(x_1))\n",
    "print(\"id(x_2): \", id(x_2))\n",
    "f(x_1, x_2)\n",
    "print(\"x_1: \", x_1)\n",
    "print(\"x_2: \", x_2)\n",
    "\n",
    "# ------------ 可变类型 ------------\n",
    "print(\"\\n可变类型\")\n",
    "x_1 = [1, 2]\n",
    "x_2 = [3, 4]\n",
    "print(\"id(x_1): \", id(x_1))\n",
    "print(\"id(x_2): \", id(x_2))\n",
    "f(x_1, x_2)\n",
    "print(\"x_1: \", x_1)\n",
    "print(\"x_2: \", x_2)"
   ]
  },
  {
   "cell_type": "markdown",
   "metadata": {},
   "source": [
    "### 函数参数默认值\n",
    "\n",
    "Python允许设定函数参数的默认值，此时应当避免使用可变对象作为参数的默认值。\n",
    "\n",
    "若使用可变类型的对象作为参数默认值，当没有传入对应的实参并且对这一形参执行操作后，可能会导致默认值发生变化。这一变化也会反映到后续创建的实例中。\n",
    "\n",
    "下述例子中，虽然仅对第二个实例进行了元素添加操作，但是第一个实例以及后续创建的第三个实例也受到了影响。\n",
    "\n",
    "为了避免上述的问题，应当尽可能使用不可变类型作为参数的默认值，对于接收可变类型的形参应当使用None作为默认值。\n",
    "\n",
    "对于传入的可变对象，为了保险起见，也应当使用深拷贝创建该对象的副本，避免意外改变实参中的元素。"
   ]
  },
  {
   "cell_type": "code",
   "execution_count": 44,
   "metadata": {},
   "outputs": [
    {
     "name": "stdout",
     "output_type": "stream",
     "text": [
      "[1]\n",
      "[1]\n",
      "[]\n"
     ]
    }
   ],
   "source": [
    "class TestClass:\n",
    "\n",
    "    def __init__(self, input_list=[]):\n",
    "        self.input_list = input_list\n",
    "    \n",
    "    def _append(self, input_data):\n",
    "        self.input_list.append(input_data)\n",
    "\n",
    "test_class_1 = TestClass()\n",
    "test_class_2 = TestClass()\n",
    "\n",
    "# 向test_class_2的self.input_list添加一个元素\n",
    "test_class_2._append(1)\n",
    "print(test_class_1.input_list)\n",
    "\n",
    "# 创建新实例\n",
    "test_class_3 = TestClass()\n",
    "print(test_class_3.input_list)"
   ]
  },
  {
   "cell_type": "markdown",
   "metadata": {},
   "source": [
    "## 垃圾回收\n",
    "\n",
    "Python不会自动销毁对象，但是当对象没有任何引用时，该对象会被回收。\n",
    "\n",
    "python中del实际上删除的是变量而不是对象。del命令虽然实质上删除的是变量，但是若删除的变量是某一个对象的最后一个引用，则该对象也会被回收。\n",
    "\n",
    "CPython会对每一个对象进行引用计数，当计数归零时立即销毁该对象并释放该对象对应的资源。\n",
    "\n",
    "下述例子演示了对象生命周期结束时的情况。"
   ]
  },
  {
   "cell_type": "code",
   "execution_count": 65,
   "metadata": {},
   "outputs": [
    {
     "name": "stdout",
     "output_type": "stream",
     "text": [
      "ender对应的对象是否存在： True\n",
      "删除s1后ender对应的对象是否存在： True\n",
      "Gone with the wind...\n",
      "删除s2后ender对应的对象是否存在： False\n"
     ]
    }
   ],
   "source": [
    "import weakref\n",
    "\n",
    "\n",
    "def bye():\n",
    "    print(\"Gone with the wind...\")\n",
    "\n",
    "\n",
    "def test_main():\n",
    "    s1 = {1, 2, 3}\n",
    "    s2 = s1\n",
    "\n",
    "    ender = weakref.finalize(s1, bye)\n",
    "    print(\"ender对应的对象是否存在：\", ender.alive)\n",
    "    del s1\n",
    "    print(\"删除s1后ender对应的对象是否存在：\", ender.alive)\n",
    "    s2 = \"spam\"\n",
    "    print(\"删除s2后ender对应的对象是否存在：\", ender.alive)\n",
    "\n",
    "test_main()"
   ]
  },
  {
   "cell_type": "markdown",
   "metadata": {},
   "source": [
    "## 弱引用\n",
    "\n",
    "弱引用不会增加对象的引用计数，因此弱引用不会影响对象的回收（类似于只读？）\n",
    "\n",
    "对于一个对象，调用弱引用时，若该对象存在则会返回该对象，否则会返回None\n",
    "\n",
    "值得注意的是，一些Python对象并不能作为弱引用的目标 —— list以及dict不可以创建弱引用，但是这些类型的子类可以成为弱引用的目标\n",
    "\n",
    "### WeakValueDictionary 和 WeakKeyDictionary\n",
    "\n",
    "WeakValueDictionary是若干对象的弱引用的字典，该字典中键值对的值是弱引用，该字典中的键值对会在对象被回收后自动删除。\n",
    "\n",
    "下述例子展示了WeakValueDictionary中元素的变化。删除原对象后，WeakValueDictionary中的元素会同步变化。与WeakValueDictionary相对的，WeakKeyDictionary中的键是弱引用 —— 可以为对象添加附加属性"
   ]
  },
  {
   "cell_type": "code",
   "execution_count": 30,
   "metadata": {},
   "outputs": [
    {
     "name": "stdout",
     "output_type": "stream",
     "text": [
      "WeakValueDictionary:\n",
      "[0, 1, 2]\n",
      "[2]\n",
      "[]\n",
      "\n",
      "WeakKeyDictionary:\n",
      "[0, 1, 2]\n",
      "[2]\n",
      "[]\n"
     ]
    }
   ],
   "source": [
    "import weakref\n",
    "\n",
    "class test_dict:\n",
    "\n",
    "    def __init__(self, input_dict):\n",
    "        self.dict = input_dict\n",
    "\n",
    "# -------------------------- WeakValueDictionary -------------------------- \n",
    "print(\"WeakValueDictionary:\")\n",
    "stock = weakref.WeakValueDictionary()\n",
    "\n",
    "test_list = [test_dict({\"1\": 1}), test_dict({\"2\": 2}), test_dict({\"3\": 3})]\n",
    "\n",
    "# _list为全局变量，并不会自动销毁\n",
    "for i, _list in enumerate(test_list):\n",
    "    stock[i] = _list\n",
    "\n",
    "print(list(stock.keys()))\n",
    "del test_list\n",
    "print(list(stock.keys()))\n",
    "del _list\n",
    "print(list(stock.keys()))\n",
    "\n",
    "# -------------------------- WeakValueDictionary -------------------------- \n",
    "print(\"\\nWeakKeyDictionary:\")\n",
    "stock = weakref.WeakKeyDictionary()\n",
    "\n",
    "test_list = [test_dict({\"1\": 1}), test_dict({\"2\": 2}), test_dict({\"3\": 3})]\n",
    "\n",
    "# _list为全局变量，并不会自动销毁\n",
    "for i, _list in enumerate(test_list):\n",
    "    stock[_list] = i\n",
    "\n",
    "print(list(stock.values()))\n",
    "del test_list\n",
    "print(list(stock.values()))\n",
    "del _list\n",
    "print(list(stock.values()))"
   ]
  },
  {
   "cell_type": "markdown",
   "metadata": {},
   "source": [
    "## 对不可变类型的引用优化\n",
    "\n",
    "Python对不可变类型的引用有大量优化。具体来说\n",
    "\n",
    "* 对元组对象使用构造方法或是[:]进行拷贝会返回同一对象\n",
    "* 一些相同字面量的字符串是同一个对象(驻留)\n",
    "* 一些常用的整数会采用上述的字符串的规则\n",
    "* ..."
   ]
  },
  {
   "cell_type": "code",
   "execution_count": 64,
   "metadata": {},
   "outputs": [
    {
     "name": "stdout",
     "output_type": "stream",
     "text": [
      "使用构造方法创建元组对象的新变量，创建前后两个变量指向同一对象： True\n",
      "使用[:]创建元组对象的新变量，创建前后两个变量指向同一对象： True\n",
      "一些相同字面量的两个字符串为同一个对象： True\n",
      "指向一些常用整数的不同变量是同一个对象： True\n",
      "指向不常用整数的不同变量是同一对象： False\n",
      "when a, b = -10, a and b are not same object\n",
      "when a, b = -9, a and b are not same object\n",
      "when a, b = -8, a and b are not same object\n",
      "when a, b = -7, a and b are not same object\n",
      "when a, b = -6, a and b are not same object\n",
      "when a, b = 257, a and b are not same object\n",
      "when a, b = 258, a and b are not same object\n",
      "when a, b = 259, a and b are not same object\n",
      "when a, b = 260, a and b are not same object\n",
      "when a, b = 261, a and b are not same object\n",
      "when a, b = 262, a and b are not same object\n",
      "when a, b = 263, a and b are not same object\n",
      "when a, b = 264, a and b are not same object\n",
      "when a, b = 265, a and b are not same object\n",
      "when a, b = 266, a and b are not same object\n",
      "when a, b = 267, a and b are not same object\n",
      "when a, b = 268, a and b are not same object\n",
      "when a, b = 269, a and b are not same object\n"
     ]
    }
   ],
   "source": [
    "t1 = (1, 2, 3)\n",
    "t2 = tuple(t1)\n",
    "t3 = t1[:]\n",
    "\n",
    "print(\"使用构造方法创建元组对象的新变量，创建前后两个变量指向同一对象：\", t1 is t2)\n",
    "print(\"使用[:]创建元组对象的新变量，创建前后两个变量指向同一对象：\", t1 is t3)\n",
    "\n",
    "s1 = \"ABC\"\n",
    "s2 = \"ABC\"\n",
    "print(\"一些相同字面量的两个字符串为同一个对象：\", s1 is s2)\n",
    "\n",
    "i1 = 256\n",
    "i2 = 256\n",
    "i3 = 10213124\n",
    "i4 = 10213124\n",
    "print(\"指向一些常用整数的不同变量是同一个对象：\", i1 is i2)\n",
    "print(\"指向不常用整数的不同变量是同一对象：\", i3 is i4)\n",
    "\n",
    "for i in range(-10, 270, 1):\n",
    "    a, b = int(str(i)), int(str(i))\n",
    "\n",
    "    if a is not b:\n",
    "        print(\"when a, b = {}, a and b are not same object\".format(i))"
   ]
  },
  {
   "cell_type": "markdown",
   "metadata": {},
   "source": [
    "## 总结\n",
    "\n",
    "1. 每一个对象都有唯一标识（id()函数）、类型以及值。其中标识和类型通常在对象的生命周期内不会发生变化，值会发生变化\n",
    "2. 符号“==”可以判断两个变量指向的对象的值是否相等，关键字“is”可以判断两个变量是否指向同一个对象\n",
    "3. 不可变序列类型（tuple等）保存的是对象的引用。当该引用是一个可变对象时，该对象的值发生变化后，引用它的不可变序列类型也会变化\n",
    "4. 对于原位操作而言（+=、*=），若操作允许，不可变类型的对象会返回一个新对象；可变类型的对象会原位修改\n",
    "5. 为已经存在的变量赋予新对象并不会改变原对象，而是进行重新绑定，此时该变量指向了新对象；若该变量是原对象最后一个引用，则原对象会在赋予该变量新对象后被回收\n",
    "6. Python以共享传递的方式传递函数参数 —— 传递引用；这一传参方式介于引用传递和值传递之间。对于可变类型的实参，若修改对应的形参，可能会影响实参中的值；而对于不可变类型的实参，若在函数中使用了赋值语句则会创建新对象（此时进行重新绑定）。\n",
    "7. 使用可变类型作为函数参数的默认值会有潜在风险。若原地修改了该参数则会导致默认值发生改变。\n",
    "8. 弱引用可以在不影响对象生命周期的情况下记录该对象，若仅想记录这些实例，而不影响其的创建和销毁则可以使用弱引用。\n",
    "9. 对于Python的不可变对象，两个指向不可变对象的变量是值相等还是指向相同的对象并不重要。对于指向不可变对象的变量而言，若使用赋值语句改变该变量的值则会创建新对象（重新绑定），这一行为没有无意中改变其他对象的风险。\n",
    "10. Python中的垃圾回收非常灵活，并且不同解释器使用不同的垃圾回收方式。对于CPython，垃圾回收依靠引用计数，当引用计数归零时会销毁该对象并释放资源 "
   ]
  }
 ],
 "metadata": {
  "interpreter": {
   "hash": "3c138c3a39b15f82bd4a9598693589d2dc2de979d592ed7357973539f0f36bd2"
  },
  "kernelspec": {
   "display_name": "Python 3.7.12 ('flyai_pytorch1_5')",
   "language": "python",
   "name": "python3"
  },
  "language_info": {
   "codemirror_mode": {
    "name": "ipython",
    "version": 3
   },
   "file_extension": ".py",
   "mimetype": "text/x-python",
   "name": "python",
   "nbconvert_exporter": "python",
   "pygments_lexer": "ipython3",
   "version": "3.7.12"
  },
  "orig_nbformat": 4
 },
 "nbformat": 4,
 "nbformat_minor": 2
}
