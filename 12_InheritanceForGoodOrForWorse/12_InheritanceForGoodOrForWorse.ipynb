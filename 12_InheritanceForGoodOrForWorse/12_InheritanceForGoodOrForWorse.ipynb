{
 "cells": [
  {
   "cell_type": "markdown",
   "metadata": {},
   "source": [
    "# 继承的优缺点\n",
    "\n",
    "本章分析了Python中的继承。主要是分析了在Python中进行继承应当注意的问题，并以Tkinter和Django为例讲解如何更好的应用多重继承。\n",
    "\n",
    "## 子类化内置类型的麻烦\n",
    "\n",
    "子类化内置类型绝不是一个好主意。其理由在于：Python中内置类型（具体来说，是使用C语言实现的内置类型）被其子类覆盖的方法的调用充满不确定性，这一不确定性指的是一些情况下会调用子类覆盖后的方法，另一些情况下则会调用内置类型原本的方法。\n",
    "\n",
    "下述例子中，DoppelDict继承自dict，并且覆写了\\_\\_setitem\\_\\_方法。从示例中能够观察到上述的不确定性。\n",
    "\n",
    "DoppelDict在初始化时，调用的是dict的\\_\\_setitem\\_\\_；在直接添加元素时使用的是覆写后的\\_\\_setitem\\_\\_；在update时则又是调用的dict的\\_\\_setitem\\_\\_。这种不确定性会在使用过程中造成相当程度上的困扰，并且难Debug。\n",
    "\n",
    "MyDoppelDict则继承自UserDict。从示例中可以观察到，MyDoppelDict的行为完全正常，所有功能都符合预期。"
   ]
  },
  {
   "cell_type": "code",
   "execution_count": 6,
   "metadata": {},
   "outputs": [],
   "source": [
    "from collections import UserDict\n",
    "\n",
    "class DoppelDict(dict):\n",
    "\n",
    "    def __setitem__(self, key, value):\n",
    "        super().__setitem__(key, [value] * 2)\n",
    "\n",
    "class MyDoppelDict(UserDict):\n",
    "\n",
    "    def __setitem__(self, key, value):\n",
    "        super().__setitem__(key, [value] * 2)"
   ]
  },
  {
   "cell_type": "code",
   "execution_count": 7,
   "metadata": {},
   "outputs": [
    {
     "name": "stdout",
     "output_type": "stream",
     "text": [
      "{'one': 1}\n",
      "{'one': 1, 'two': [2, 2]}\n",
      "{'one': 1, 'two': [2, 2], 'three': 3}\n",
      "{'one': [1, 1]}\n",
      "{'one': [1, 1], 'two': [2, 2]}\n",
      "{'one': [1, 1], 'two': [2, 2], 'three': [3, 3]}\n"
     ]
    }
   ],
   "source": [
    "dd = DoppelDict(one=1)\n",
    "print(dd)\n",
    "dd[\"two\"] = 2\n",
    "print(dd)\n",
    "dd.update(three=3)\n",
    "print(dd)\n",
    "\n",
    "Mydd = MyDoppelDict(one=1)\n",
    "print(Mydd)\n",
    "Mydd[\"two\"] = 2\n",
    "print(Mydd)\n",
    "Mydd.update(three=3)\n",
    "print(Mydd)"
   ]
  },
  {
   "cell_type": "markdown",
   "metadata": {},
   "source": [
    "## 多重继承中的方法解析顺序\n",
    "\n",
    "Python支持多重继承，因此也需要处理多重继承中可能出现的命名冲突。\n",
    "\n",
    "对此，Python提供了类名限定方法来避免调用时的歧义。此外，Python中多重继承的方法解析顺序是可以预测的，并且也可以通过查看\\_\\_mro\\_\\_属性以得知特定类的方法解析顺序。\n",
    "\n",
    "若想在方法中将调用委托给父类，可以使用内置的super()方法根据方法解析顺序调用父类方法，或者也可以直接指定调用某个父类的方法。\n",
    "\n",
    "值得一提的是，Python中多重继承的方法解析顺序使用C3算法生成"
   ]
  },
  {
   "cell_type": "code",
   "execution_count": 11,
   "metadata": {},
   "outputs": [
    {
     "name": "stdout",
     "output_type": "stream",
     "text": [
      "(<class '__main__.D'>, <class '__main__.B'>, <class '__main__.C'>, <class '__main__.A'>, <class 'object'>)\n",
      "ping: <__main__.D object at 0x0000022DC8853088>\n",
      "post-ping: <__main__.D object at 0x0000022DC8853088>\n",
      "ping: <__main__.D object at 0x0000022DC8853088>\n",
      "pong: <__main__.D object at 0x0000022DC8853088>\n",
      "pong: <__main__.D object at 0x0000022DC8853088>\n",
      "PONG: <__main__.D object at 0x0000022DC8853088>\n"
     ]
    }
   ],
   "source": [
    "class A:\n",
    "    def ping(self):\n",
    "        print(\"ping:\", self)\n",
    "\n",
    "class B(A):\n",
    "    def pong(self):\n",
    "        print(\"pong:\", self)\n",
    "\n",
    "class C(A):\n",
    "    def pong(self):\n",
    "        print(\"PONG:\", self)\n",
    "\n",
    "class D(B, C):\n",
    "\n",
    "    \"\"\"\n",
    "    方法解析顺序：\n",
    "    D.__mro__: \n",
    "    <class '__main__.D'>, \n",
    "    <class '__main__.B'>, \n",
    "    <class '__main__.C'>, \n",
    "    <class '__main__.A'>, \n",
    "    <class 'object'>\n",
    "    \"\"\"\n",
    "\n",
    "    def ping(self):\n",
    "\n",
    "        # 调用A的ping\n",
    "        super().ping()\n",
    "        print(\"post-ping:\", self)\n",
    "    \n",
    "    def pingpong(self):\n",
    "\n",
    "        # 调用A的ping()\n",
    "        self.ping()\n",
    "        # 调用A的ping()\n",
    "        super().ping()\n",
    "        # 调用B的pong()\n",
    "        self.pong()\n",
    "        # 调用B的pong()\n",
    "        super().pong()\n",
    "        # 调用C的pong()\n",
    "        C.pong(self)\n",
    "\n",
    "d = D()\n",
    "print(D.__mro__)\n",
    "d.pingpong()"
   ]
  },
  {
   "cell_type": "markdown",
   "metadata": {},
   "source": [
    "## 关于多重继承的一些建议\n",
    "\n",
    "如何设计继承的层次关系仍没有完整的理论指导，但是本章提出了一些建议：\n",
    "\n",
    "1. 区分接口继承和实现继承\n",
    "    接口继承和实现继承的目的不同\n",
    "    接口继承主要是设计了子类的接口（支柱）\n",
    "    实现继承则是为了尽量避免代码重复（细节）\n",
    "2. 使用抽象基类显式表示接口\n",
    "    这一条建议那些仅定义接口的类应当被显式定义为抽象基类（个人持保留意见）\n",
    "3. 通过混入重用代码\n",
    "    混入类值得的是那些仅提供实现，而不体现接口的类。这些类很可能被大量毫不相关的子类继承。\n",
    "    原则上混入类不定义新类型，仅是对方法进行打包以方便重用。\n",
    "    因此混入类不应当被实例化，并且具体类不应当仅继承自混入类\n",
    "4. 在名称中显式表示混入类\n",
    "    Python并没有显式定义混入类的语法，因此作者建议在名称中加入Mixin后缀以表明该类是一个混入类\n",
    "5. 不要子类化多个具体类\n",
    "    具体类应当最多只有一个具体超类。More Effective C++的作者Scott Meyer则认为任何非尾端类都不应当是具体类\n",
    "6. 聚合类\n",
    "    聚合类：如果一个类的结构主要继承自混入，自身没有添加结构或者行为，那么这样的类称为聚合类。聚合类仅是一种组合\n",
    "7. 优先使用对象组合，而不是类继承\n",
    "    组合能使设计更灵活，子类化则是一种强耦合"
   ]
  },
  {
   "cell_type": "markdown",
   "metadata": {},
   "source": [
    "## Tkinter中的多重继承\n",
    "\n",
    "Tkinter的底层是Tcl的GUI工具包Tk（非面向对象），并且Tkinter从Python1.1版本开始就是标准库之一。由于年代久远，Tkinter中类的继承关系和上述给出的建议基本不符合。\n",
    "\n",
    "Tkinter中封装GUI应用逻辑的Tk类均继承自Wm和Misc。从上述建议的角度来说，Misc类既不是抽象类，也不是混入类，并且该类有超过100个方法。Misc为每一个小组件提供各种功能。由于这种庞杂的设计，这一继承结构中会出现令人费解的“组合”，比如：为按钮提供计时器，为滚动条提供文字选择功能等。本书作者认为Misc类应当做进一步的层次划分和功能拆分。\n",
    "\n",
    "作为用户，上述继承关系无论多么混乱，实际上没有什么影响（都是实现细节）。但是在查看或者检索需要的方法时则会非常头疼 —— 如何从下述Button的210个属性中选出当前项目可能用到的属性？（只能看文档了）"
   ]
  },
  {
   "cell_type": "code",
   "execution_count": 14,
   "metadata": {},
   "outputs": [
    {
     "name": "stdout",
     "output_type": "stream",
     "text": [
      "210\n",
      "['_Misc__winfo_getint', '_Misc__winfo_parseitem', '__class__', '__delattr__', '__dict__', '__dir__', '__doc__', '__eq__', '__format__', '__ge__', '__getattribute__', '__getitem__', '__gt__', '__hash__', '__init__', '__init_subclass__', '__le__', '__lt__', '__module__', '__ne__', '__new__', '__reduce__', '__reduce_ex__', '__repr__', '__setattr__', '__setitem__', '__sizeof__', '__str__', '__subclasshook__', '__weakref__', '_bind', '_configure', '_displayof', '_do', '_getboolean', '_getconfigure', '_getconfigure1', '_getdoubles', '_getints', '_grid_configure', '_gridconvvalue', '_last_child_ids', '_nametowidget', '_noarg_', '_options', '_register', '_report_exception', '_root', '_setup', '_subst_format', '_subst_format_str', '_substitute', '_tclCommands', '_windowingsystem', 'after', 'after_cancel', 'after_idle', 'anchor', 'bbox', 'bell', 'bind', 'bind_all', 'bind_class', 'bindtags', 'cget', 'clipboard_append', 'clipboard_clear', 'clipboard_get', 'columnconfigure', 'config', 'configure', 'deletecommand', 'destroy', 'event_add', 'event_delete', 'event_generate', 'event_info', 'flash', 'focus', 'focus_displayof', 'focus_force', 'focus_get', 'focus_lastfor', 'focus_set', 'forget', 'getboolean', 'getdouble', 'getint', 'getvar', 'grab_current', 'grab_release', 'grab_set', 'grab_set_global', 'grab_status', 'grid', 'grid_anchor', 'grid_bbox', 'grid_columnconfigure', 'grid_configure', 'grid_forget', 'grid_info', 'grid_location', 'grid_propagate', 'grid_remove', 'grid_rowconfigure', 'grid_size', 'grid_slaves', 'image_names', 'image_types', 'info', 'invoke', 'keys', 'lift', 'location', 'lower', 'mainloop', 'nametowidget', 'option_add', 'option_clear', 'option_get', 'option_readfile', 'pack', 'pack_configure', 'pack_forget', 'pack_info', 'pack_propagate', 'pack_slaves', 'place', 'place_configure', 'place_forget', 'place_info', 'place_slaves', 'propagate', 'quit', 'register', 'rowconfigure', 'selection_clear', 'selection_get', 'selection_handle', 'selection_own', 'selection_own_get', 'send', 'setvar', 'size', 'slaves', 'tk_bisque', 'tk_focusFollowsMouse', 'tk_focusNext', 'tk_focusPrev', 'tk_setPalette', 'tk_strictMotif', 'tkraise', 'unbind', 'unbind_all', 'unbind_class', 'update', 'update_idletasks', 'wait_variable', 'wait_visibility', 'wait_window', 'waitvar', 'winfo_atom', 'winfo_atomname', 'winfo_cells', 'winfo_children', 'winfo_class', 'winfo_colormapfull', 'winfo_containing', 'winfo_depth', 'winfo_exists', 'winfo_fpixels', 'winfo_geometry', 'winfo_height', 'winfo_id', 'winfo_interps', 'winfo_ismapped', 'winfo_manager', 'winfo_name', 'winfo_parent', 'winfo_pathname', 'winfo_pixels', 'winfo_pointerx', 'winfo_pointerxy', 'winfo_pointery', 'winfo_reqheight', 'winfo_reqwidth', 'winfo_rgb', 'winfo_rootx', 'winfo_rooty', 'winfo_screen', 'winfo_screencells', 'winfo_screendepth', 'winfo_screenheight', 'winfo_screenmmheight', 'winfo_screenmmwidth', 'winfo_screenvisual', 'winfo_screenwidth', 'winfo_server', 'winfo_toplevel', 'winfo_viewable', 'winfo_visual', 'winfo_visualid', 'winfo_visualsavailable', 'winfo_vrootheight', 'winfo_vrootwidth', 'winfo_vrootx', 'winfo_vrooty', 'winfo_width', 'winfo_x', 'winfo_y']\n"
     ]
    }
   ],
   "source": [
    "import tkinter as tk\n",
    "\n",
    "print(len(dir(tk.Button)))\n",
    "print(dir(tk.Button))"
   ]
  },
  {
   "cell_type": "markdown",
   "metadata": {},
   "source": [
    "## 总结\n",
    "\n",
    "1. 为了避免行为上的不确定性，应当尽可能避免继承自内置类型，而应当选择继承自collections中的UserList、UserDict以及UserString\n",
    "2. 命名冲突在多重继承中时有发生，Python使用特定的算法生成方法解析顺序，并且可以通过类的\\_\\_mro\\_\\_属性查看这一顺序。根据方法解析顺序，Python开发者能够精准预测调用方法的结果\n",
    "3. 虽然仍没有完整的理论指导多重继承，但是本书作者给出了一些相当有益的建议，并且以Tkinter和Django为例分析如何更好的使用多重继承。总的来说，应当尽可能区分“接口”和“实现”，并且谨慎使用混入类。\n"
   ]
  }
 ],
 "metadata": {
  "interpreter": {
   "hash": "3c138c3a39b15f82bd4a9598693589d2dc2de979d592ed7357973539f0f36bd2"
  },
  "kernelspec": {
   "display_name": "Python 3.7.12 ('flyai_pytorch1_5')",
   "language": "python",
   "name": "python3"
  },
  "language_info": {
   "codemirror_mode": {
    "name": "ipython",
    "version": 3
   },
   "file_extension": ".py",
   "mimetype": "text/x-python",
   "name": "python",
   "nbconvert_exporter": "python",
   "pygments_lexer": "ipython3",
   "version": "3.7.12"
  },
  "orig_nbformat": 4
 },
 "nbformat": 4,
 "nbformat_minor": 2
}
